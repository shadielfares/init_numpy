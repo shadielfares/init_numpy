{
 "cells": [
  {
   "cell_type": "code",
   "metadata": {
    "ExecuteTime": {
     "end_time": "2025-07-08T15:23:06.115Z",
     "start_time": "2025-07-08T15:23:04.647100Z"
    }
   },
   "source": [
    "import matplotlib.pyplot as plt\n",
    "%matplotlib inline\n",
    "import numpy as np\n",
    "import math "
   ],
   "outputs": [],
   "execution_count": 2
  },
  {
   "cell_type": "markdown",
   "metadata": {},
   "source": [
    "<h3>NumPy (Numerical Python) Arrays</h3>\n",
    "\n",
    "A <b>numpy array</b> ($n$-dimensional array) is a grid, or matrix, of values. Numpy arrays can be one-dimensional (look like lists, but are a different data type), two-dimensional (matrices), three dimensional (matrix of matrices), etc.\n",
    "\n",
    "The numpy module was created with scientific calculations in mind (calculus, linear algebra, ODEs, etc.). Numpy arrays are mostly beneficial when working with <b>numbers</b> and <b>Booleans</b>. Many methods and commands have been created for numpy arrays which greatly simplify common calculations. Additionally, calculations with numpy arrays are generally more efficient and use less memory than the same calculations on other objects."
   ]
  },
  {
   "cell_type": "code",
   "metadata": {
    "ExecuteTime": {
     "end_time": "2025-07-08T16:30:51.138182Z",
     "start_time": "2025-07-08T16:30:51.121126Z"
    }
   },
   "source": [
    "## define some 1-dimensional arrays from other python objects\n",
    "\n",
    "x=[1,2,3]  # list\n",
    "y=(8/2,5)  # tuple\n",
    "z=range(4) # range\n",
    "\n",
    "print(x, type(x))\n",
    "print(y, type(y))\n",
    "print(z, type(z))\n",
    "print()\n",
    "\n",
    "a=np.array(x) \n",
    "b=np.array(y)\n",
    "c=np.array(z)\n",
    "                                       \n",
    "print(a, type(a))\n",
    "print(b, type(b)) \n",
    "print(c, type(c))"
   ],
   "outputs": [
    {
     "name": "stdout",
     "output_type": "stream",
     "text": [
      "[1, 2, 3] <class 'list'>\n",
      "(4.0, 5) <class 'tuple'>\n",
      "range(0, 4) <class 'range'>\n",
      "\n",
      "[1 2 3] <class 'numpy.ndarray'>\n",
      "[4. 5.] <class 'numpy.ndarray'>\n",
      "[0 1 2 3] <class 'numpy.ndarray'>\n"
     ]
    }
   ],
   "execution_count": 3
  },
  {
   "cell_type": "code",
   "metadata": {
    "ExecuteTime": {
     "end_time": "2025-07-08T16:31:21.686197Z",
     "start_time": "2025-07-08T16:31:21.682607Z"
    }
   },
   "source": [
    "## convert a numpy array other python variables\n",
    "\n",
    "N=np.array([12,13,28/2])\n",
    "print(\"numpy array:\", N)\n",
    "\n",
    "M=list(N)\n",
    "print(\"list:\", M)\n",
    "\n",
    "P=tuple(N)\n",
    "print(\"tuple:\", P)"
   ],
   "outputs": [
    {
     "name": "stdout",
     "output_type": "stream",
     "text": [
      "numpy array: [12. 13. 14.]\n",
      "list: [np.float64(12.0), np.float64(13.0), np.float64(14.0)]\n",
      "tuple: (np.float64(12.0), np.float64(13.0), np.float64(14.0))\n"
     ]
    }
   ],
   "execution_count": 4
  },
  {
   "cell_type": "code",
   "metadata": {
    "ExecuteTime": {
     "end_time": "2025-07-08T16:32:24.868796Z",
     "start_time": "2025-07-08T16:32:24.864393Z"
    }
   },
   "source": [
    "## if we do not specify dtype (= data type) python  \n",
    "## tries its best to figure it out\n",
    "\n",
    "a=np.array([1,2,3,4,5,6],dtype=int)\n",
    "print(a)\n",
    "print()\n",
    "\n",
    "a=np.array([1,2,3,4,5,6],dtype=float)\n",
    "print(a)\n",
    "print()\n",
    "\n",
    "a=np.array([1,2,3,4,5,6],dtype=complex)\n",
    "print(a)\n",
    "print()\n",
    "\n",
    "a=np.array([1,2,3,4,5,6],dtype=str)\n",
    "print(a)\n",
    "print()\n",
    "\n",
    "a=np.array([-3,-1,0,4,5,6]) # what dtype will python assume? (INT)\n",
    "print(a)\n",
    "print()\n",
    "\n",
    "a=np.array([-3,-1,0,4,5/8,6]) # what dtype will python assume? (FLOAT)\n",
    "print(a)\n",
    "\n",
    "## note: elements in a numpy array are typically homogeneous (ie one data type)"
   ],
   "outputs": [
    {
     "name": "stdout",
     "output_type": "stream",
     "text": [
      "[1 2 3 4 5 6]\n",
      "\n",
      "[1. 2. 3. 4. 5. 6.]\n",
      "\n",
      "[1.+0.j 2.+0.j 3.+0.j 4.+0.j 5.+0.j 6.+0.j]\n",
      "\n",
      "['1' '2' '3' '4' '5' '6']\n",
      "\n",
      "[-3 -1  0  4  5  6]\n",
      "\n",
      "[-3.    -1.     0.     4.     0.625  6.   ]\n"
     ]
    }
   ],
   "execution_count": 6
  },
  {
   "cell_type": "code",
   "metadata": {
    "ExecuteTime": {
     "end_time": "2025-07-08T16:33:11.362577Z",
     "start_time": "2025-07-08T16:33:11.358769Z"
    }
   },
   "source": [
    "## ARRAY + RANGE = ARANGE\n",
    "\n",
    "a=np.array(range(0,15,2),dtype=float)\n",
    "print(a)\n",
    "\n",
    "b=np.arange(0,15,2,dtype=float)  #  array + range = arange\n",
    "print(b)\n",
    "print()\n",
    "\n",
    "c=np.arange(11)  # note default values\n",
    "print(c)\n",
    "\n",
    "d=np.arange(2,6,0.43)\n",
    "print(d)"
   ],
   "outputs": [
    {
     "name": "stdout",
     "output_type": "stream",
     "text": [
      "[ 0.  2.  4.  6.  8. 10. 12. 14.]\n",
      "[ 0.  2.  4.  6.  8. 10. 12. 14.]\n",
      "\n",
      "[ 0  1  2  3  4  5  6  7  8  9 10]\n",
      "[2.   2.43 2.86 3.29 3.72 4.15 4.58 5.01 5.44 5.87]\n"
     ]
    }
   ],
   "execution_count": 7
  },
  {
   "cell_type": "code",
   "metadata": {
    "ExecuteTime": {
     "end_time": "2025-07-08T16:39:32.197528Z",
     "start_time": "2025-07-08T16:39:32.192364Z"
    }
   },
   "source": [
    "## creating a numpy array using LINSPACE versus ARANGE \n",
    "\n",
    "x=np.linspace(0,1,num=11)  # note where it ends! \n",
    "print(\"x=\",x, type(x))\n",
    "print()\n",
    "\n",
    "y=np.arange(0,1,0.1, dtype=float)  # note where it ends! \n",
    "print(\"y=\",y, type(y))\n",
    "print()\n",
    "\n",
    "z=np.linspace(0,1,6)\n",
    "print(\"z=\",z, type(z))\n",
    "\n",
    "## exercise: create the x-array and z-array using 'arange'; create the y-array using 'linspace'\n",
    "x_arange = np.arange(0,1.1,0.1, dtype=float)\n",
    "z_arange = np.arange(0,1.2,0.2, dtype=float)\n",
    "y_linspace = np.linspace(0,0.9,num=10)"
   ],
   "outputs": [
    {
     "name": "stdout",
     "output_type": "stream",
     "text": [
      "x= [0.  0.1 0.2 0.3 0.4 0.5 0.6 0.7 0.8 0.9 1. ] <class 'numpy.ndarray'>\n",
      "\n",
      "y= [0.  0.1 0.2 0.3 0.4 0.5 0.6 0.7 0.8 0.9] <class 'numpy.ndarray'>\n",
      "\n",
      "z= [0.  0.2 0.4 0.6 0.8 1. ] <class 'numpy.ndarray'>\n",
      "[0.  0.1 0.2 0.3 0.4 0.5 0.6 0.7 0.8 0.9]\n"
     ]
    }
   ],
   "execution_count": 22
  },
  {
   "cell_type": "code",
   "metadata": {
    "ExecuteTime": {
     "end_time": "2025-07-08T16:40:16.127561Z",
     "start_time": "2025-07-08T16:40:16.124003Z"
    }
   },
   "source": [
    "## arrays of zeros and ones  \n",
    "\n",
    "print(np.zeros(10, dtype=int))\n",
    "print(np.zeros(15, dtype=float))\n",
    "print(np.ones(6))   # float by default\n",
    "print(np.ones(6,dtype=int))\n",
    "\n",
    "## how could you make an array of all 5's?    "
   ],
   "outputs": [
    {
     "name": "stdout",
     "output_type": "stream",
     "text": [
      "[0 0 0 0 0 0 0 0 0 0]\n",
      "[0. 0. 0. 0. 0. 0. 0. 0. 0. 0. 0. 0. 0. 0. 0.]\n",
      "[1. 1. 1. 1. 1. 1.]\n",
      "[1 1 1 1 1 1]\n"
     ]
    }
   ],
   "execution_count": 23
  },
  {
   "cell_type": "code",
   "metadata": {
    "ExecuteTime": {
     "end_time": "2025-07-08T16:42:10.285394Z",
     "start_time": "2025-07-08T16:42:10.281337Z"
    }
   },
   "source": [
    "## indexing, slicing - exactly the same as for strings, lists and tuples\n",
    "\n",
    "x=np.linspace(0,1,num=11) \n",
    "print(x)\n",
    "print(x[0])\n",
    "x[0] = 0.1\n",
    "print(x)\n",
    "print(x[5])\n",
    "print(x[-1])\n",
    "print()\n",
    "\n",
    "y=np.array([1, 2, 3, 4, 5, 6, 7, 8, 9, 10])\n",
    "print(y)\n",
    "print(y[2:7])\n",
    "print(y[-2:-1])\n",
    "\n",
    "## question: are numpy arrays mutable?\n",
    "\"\"\"\n",
    "Yes numpy arrays are mutable.\n",
    "\"\"\""
   ],
   "outputs": [
    {
     "name": "stdout",
     "output_type": "stream",
     "text": [
      "[0.  0.1 0.2 0.3 0.4 0.5 0.6 0.7 0.8 0.9 1. ]\n",
      "0.0\n",
      "[0.1 0.1 0.2 0.3 0.4 0.5 0.6 0.7 0.8 0.9 1. ]\n",
      "0.5\n",
      "1.0\n",
      "\n",
      "[ 1  2  3  4  5  6  7  8  9 10]\n",
      "[3 4 5 6 7]\n",
      "[9]\n"
     ]
    }
   ],
   "execution_count": 26
  },
  {
   "cell_type": "code",
   "metadata": {
    "ExecuteTime": {
     "end_time": "2025-07-08T16:46:59.453408Z",
     "start_time": "2025-07-08T16:46:59.447557Z"
    }
   },
   "source": [
    "## checking elements in a numpy array: ANY, ALL \n",
    "\n",
    "x=np.linspace(0,10,11,dtype=int)  \n",
    "print(\"x=\",x)\n",
    "print()\n",
    "\n",
    "print(np.any(x>=5)) # are there ANY elements in the array x which are >=0?\n",
    "print(np.all(x>=5)) # are ALL of elements in the array >0?\n",
    "print()\n",
    "\n",
    "print(np.any(x>=3) and np.any(x<10))\n",
    "print(np.all(x<10) or np.all(x>0))"
   ],
   "outputs": [
    {
     "name": "stdout",
     "output_type": "stream",
     "text": [
      "x= [ 0  1  2  3  4  5  6  7  8  9 10]\n",
      "\n",
      "True\n",
      "False\n",
      "\n",
      "True\n",
      "False\n"
     ]
    }
   ],
   "execution_count": 27
  },
  {
   "cell_type": "code",
   "metadata": {
    "ExecuteTime": {
     "end_time": "2025-07-08T16:52:08.652713Z",
     "start_time": "2025-07-08T16:52:08.646342Z"
    }
   },
   "source": [
    "## EXERCISE\n",
    "##\n",
    "## how would you write code to check if there is an element > 10 in the array without using np.any?\n",
    "for n in x:\n",
    "    if n > 10:\n",
    "        print(True)\n",
    "print(False)\n",
    "## how would you write code to check if all elements are larger than 1.7 without using np.all?\n",
    "\n",
    "n = len(x)\n",
    "count = 0\n",
    "for n in x:\n",
    "    if n > 1.7:\n",
    "        count += 1\n",
    "if count == n:\n",
    "    print(True)\n",
    "else:\n",
    "    print(False)\n"
   ],
   "outputs": [
    {
     "name": "stdout",
     "output_type": "stream",
     "text": [
      "False\n",
      "False\n"
     ]
    }
   ],
   "execution_count": 28
  },
  {
   "cell_type": "markdown",
   "metadata": {},
   "source": [
    "<h4>CALCULUS AND NUMPY ARRAYS </h4>"
   ]
  },
  {
   "cell_type": "code",
   "metadata": {
    "ExecuteTime": {
     "end_time": "2025-07-08T16:53:57.901517Z",
     "start_time": "2025-07-08T16:53:57.896429Z"
    }
   },
   "source": [
    "## very useful - we can directly apply calculus functions to numpy arrays:\n",
    "\n",
    "def f(x):\n",
    "    return np.exp(x)\n",
    "\n",
    "x=np.linspace(0,3,4)   \n",
    "\n",
    "print('x =',x)\n",
    "print(' ')\n",
    "\n",
    "print('f(x) =',f(x))\n",
    "print(' ')\n",
    "\n",
    "print('1/(x^2+1) =',1/(x**2+1))\n",
    "print(' ')\n",
    "\n",
    "## how would you apply a calculus function to a tuple? a list?\n",
    "\"\"\"\n",
    "lets say y is tuple\n",
    "\n",
    "we can do y = np.array(y)\n",
    "\n",
    "and this should cast it, so that we can apply a calculus function to it.\n",
    "\n",
    "Would have to be careful of lists that are possibly filled with mixed types as this would cause errors when applying the calculus functions to them.\n",
    "\"\"\""
   ],
   "outputs": [
    {
     "name": "stdout",
     "output_type": "stream",
     "text": [
      "x = [0. 1. 2. 3.]\n",
      " \n",
      "f(x) = [ 1.          2.71828183  7.3890561  20.08553692]\n",
      " \n",
      "1/(x^2+1) = [1.  0.5 0.2 0.1]\n",
      " \n"
     ]
    }
   ],
   "execution_count": 29
  },
  {
   "cell_type": "code",
   "metadata": {
    "ExecuteTime": {
     "end_time": "2025-07-08T16:57:16.220027Z",
     "start_time": "2025-07-08T16:57:16.112850Z"
    }
   },
   "source": [
    "## recall: we used numpy arrays to plot graphs\n",
    "\n",
    "a=0\n",
    "b=2*np.pi\n",
    "n=500\n",
    "\n",
    "x=np.linspace(a,b,n+1)\n",
    "y=0.4*x*np.sin(0.12*x**3+0.04)\n",
    "\n",
    "plt.title(\"Graph of f(x)\")\n",
    "plt.xlabel(\"x\")\n",
    "plt.ylabel(\"y\")\n",
    "plt.plot(x,y) # what happens when we replace plot by scatter?\n",
    "plt.plot(x,x*0,color='r') # x*0=[0 0 0 ... 0] <- an array of zeros... creates the x-axis\n",
    "plt.grid()\n",
    "plt.show()"
   ],
   "outputs": [
    {
     "data": {
      "text/plain": [
       "<Figure size 640x480 with 1 Axes>"
      ],
      "image/png": "[encoded data removed]"
     },
     "metadata": {},
     "output_type": "display_data"
    }
   ],
   "execution_count": 30
  },
  {
   "cell_type": "markdown",
   "metadata": {},
   "source": [
    "<B> APPLICATION: Euler's Method </B>\n",
    "\n",
    "Euler's Method is a numerical method used to generate approximate values of the solution to an initial value problem (IVP) of the form \n",
    "\n",
    "$\\displaystyle{{dy \\over dx}=G(x,y)}$,  where $y(x_0)=y_0$. \n",
    "\n",
    "<b> <u> Algorithm: </u>  </b>\n",
    "\n",
    "$x_0$ and $y_0$ are given by the initial condition. To compute successive approximations, use:\n",
    "\n",
    "<p style=\"color:Blue;\">$x_{n}=x_{n-1} + h$ </p>\n",
    "\n",
    "<p style=\"color:Blue;\">$y_{n}=y_{n-1} + G(x_{n-1},y_{n-1})\\cdot h$</p>\n",
    "\n",
    "where $n=1,2,3,4$ and so on, and $h$ is the step size (sometimes called $\\Delta x$)."
   ]
  },
  {
   "cell_type": "code",
   "metadata": {
    "ExecuteTime": {
     "end_time": "2025-07-08T19:03:54.882701Z",
     "start_time": "2025-07-08T19:03:54.823636Z"
    }
   },
   "source": [
    "## approximating the solution of an IVP using Euler's method and numpy arrays\n",
    "\n",
    "## logistic model: dP/dt=kP(1-P/L), P(0)=P_0\n",
    "## compare to actual solution: P(t)=L/(1+ ((L-P_0)/P_0)e^{-kt})\n",
    "\n",
    "k=0.2\n",
    "L=4000  ## carrying capacity\n",
    "\n",
    "t=np.array([0])  ## t0=0\n",
    "P=np.array([10]) ## P0=10\n",
    "\n",
    "n=600\n",
    "dt=0.1\n",
    "\n",
    "for i in range(1,n+1):\n",
    "    tnew=t[-1]+dt\n",
    "    Pnew=P[-1]+k*P[-1]*(1-P[-1]/L)*dt\n",
    "    t=np.append(t,tnew)   # note the different structure of append method for arrays\n",
    "    P=np.append(P,Pnew)\n",
    "    \n",
    "def P_actual(t):\n",
    "    return L/(1+((L-P[0])/P[0])*np.exp(-k*t))\n",
    "\n",
    "P_actual=P_actual(t)\n",
    "    \n",
    "plt.plot(t,P, label=\"Euler's approximation\")\n",
    "plt.plot(t,P_actual, label=\"Algebraic solution\")\n",
    "plt.grid()\n",
    "plt.title(\"Logistic Model\")\n",
    "plt.legend()\n",
    "plt.show()\n",
    "\n",
    "## what could we change if we wanted to improve our estimation? \n",
    "## how can we make the blue graph look more like the orange graph?\n",
    "\n",
    "\"\"\"\n",
    "By increasing the step amount and decreasing the step size (dt), we decrease the error.\n",
    "\n",
    "Since Euler's method has an error rate of about dt^2, by going from dt=1 to dt=0.1 we reduced the error by about a factor of 100!\n",
    "\"\"\""
   ],
   "outputs": [
    {
     "data": {
      "text/plain": [
       "<Figure size 640x480 with 1 Axes>"
      ],
      "image/png": "[encoded data removed]"
     },
     "metadata": {},
     "output_type": "display_data"
    },
    {
     "data": {
      "text/plain": [
       "''"
      ]
     },
     "execution_count": 33,
     "metadata": {},
     "output_type": "execute_result"
    }
   ],
   "execution_count": 33
  },
  {
   "cell_type": "markdown",
   "metadata": {},
   "source": [
    "<b>VECTORS</b>\n",
    "\n",
    "A 1-dimensional numpy array can be viewed as a vector. This representation can simplify many of the calculations we typically do with vectors. "
   ]
  },
  {
   "cell_type": "code",
   "metadata": {
    "ExecuteTime": {
     "end_time": "2025-07-08T19:06:16.145597Z",
     "start_time": "2025-07-08T19:06:16.140438Z"
    }
   },
   "source": [
    "## basic vector operations: +,-,*,/ \n",
    "\n",
    "v=np.array([1,0,-1,3])\n",
    "w=np.array([0,7,14,7])\n",
    "\n",
    "print(v+w)\n",
    "print(v-w)\n",
    "\n",
    "print(3*v)\n",
    "print(w/7)"
   ],
   "outputs": [
    {
     "name": "stdout",
     "output_type": "stream",
     "text": [
      "[ 1  7 13 10]\n",
      "[  1  -7 -15  -4]\n",
      "[ 3  0 -3  9]\n",
      "[0. 1. 2. 1.]\n"
     ]
    }
   ],
   "execution_count": 34
  },
  {
   "cell_type": "code",
   "metadata": {
    "ExecuteTime": {
     "end_time": "2025-07-08T19:06:21.049658Z",
     "start_time": "2025-07-08T19:06:21.044233Z"
    }
   },
   "source": [
    "## element-wise multiplication and division\n",
    "\n",
    "print(v*w)  \n",
    "print(v/[10,20,30,40])"
   ],
   "outputs": [
    {
     "name": "stdout",
     "output_type": "stream",
     "text": [
      "[  0   0 -14  21]\n",
      "[ 0.1         0.         -0.03333333  0.075     ]\n"
     ]
    }
   ],
   "execution_count": 35
  },
  {
   "cell_type": "code",
   "metadata": {
    "ExecuteTime": {
     "end_time": "2025-07-08T19:06:32.634852Z",
     "start_time": "2025-07-08T19:06:32.627818Z"
    }
   },
   "source": [
    "## dot product, norm, angle\n",
    "## now with shorter codes than before\n",
    "\n",
    "v=np.array([1,2,0,1])\n",
    "w=np.array([2,-3,1,4])\n",
    "\n",
    "print(v,w,v*w)\n",
    "\n",
    "def dot_prod(v,w):  ## what would we write this function if v,w were lists or tuples?\n",
    "    \"\"\"\n",
    "    Wouldn't you have to maintain a summ variable and add to it for all x\n",
    "    where x is number in the array.\n",
    "    \"\"\"\n",
    "    return np.sum(v*w)\n",
    "\n",
    "print(dot_prod(v,w))\n",
    "\n",
    "def norm(v):\n",
    "    return np.sqrt(dot_prod(v,v))\n",
    "\n",
    "print(norm(v),\"   check:\",np.sqrt(6))\n",
    "\n",
    "def angle(v,w):\n",
    "    cos_angle=dot_prod(v,w)/(norm(v)*norm(w))\n",
    "    return np.arccos(cos_angle)\n",
    "\n",
    "print(angle(v,w))  ## how can we print this in degrees?"
   ],
   "outputs": [
    {
     "name": "stdout",
     "output_type": "stream",
     "text": [
      "[1 2 0 1] [ 2 -3  1  4] [ 2 -6  0  4]\n",
      "0\n",
      "2.449489742783178    check: 2.449489742783178\n",
      "1.5707963267948966\n"
     ]
    }
   ],
   "execution_count": 36
  },
  {
   "cell_type": "code",
   "metadata": {
    "ExecuteTime": {
     "end_time": "2025-07-08T19:19:57.554493Z",
     "start_time": "2025-07-08T19:19:57.550690Z"
    }
   },
   "source": [
    "## calculations in many dimensional spaces\n",
    "\n",
    "v=np.array([-1,2,3,0,1,1,3,-1,-2,5,4])\n",
    "w=np.linspace(0, 1, num=11)\n",
    "print(v)\n",
    "print(w)\n",
    "print()\n",
    "\n",
    "print(norm(v),norm(w))\n",
    "print(dot_prod(v,w))\n",
    "\n",
    "print(angle(v,w))\n",
    "\n",
    "## why might we want to measure the angle between two higher dimensional vectors v and w??\n",
    "\"\"\"\n",
    "Uhh, calculating the projection of two vectors\n",
    "\"\"\""
   ],
   "outputs": [
    {
     "name": "stdout",
     "output_type": "stream",
     "text": [
      "[-1  2  3  0  1  1  3 -1 -2  5  4]\n",
      "[0.  0.1 0.2 0.3 0.4 0.5 0.6 0.7 0.8 0.9 1. ]\n",
      "\n",
      "8.426149773176359 1.9621416870348585\n",
      "9.7\n",
      "0.9438250834407077\n"
     ]
    }
   ],
   "execution_count": 37
  },
  {
   "cell_type": "markdown",
   "metadata": {},
   "source": [
    "<h4> TWO-DIMENSIONAL ARRAYS </h4>"
   ]
  },
  {
   "cell_type": "code",
   "metadata": {
    "ExecuteTime": {
     "end_time": "2025-07-08T19:21:41.903956Z",
     "start_time": "2025-07-08T19:21:41.899217Z"
    }
   },
   "source": [
    "## convert a nested list into a numpy array\n",
    "\n",
    "m=[[8,9,10,11],[12,13,14,15],[16,17,18,19]]  # represents a 3x4 matrix\n",
    "print(m,'\\n')\n",
    "\n",
    "a=np.array(m,dtype=float) # what happens if we do not specify dtype?\n",
    "\"\"\"\n",
    "if you don't specify types i believe it will default to integer based on the contents of the array\n",
    "\"\"\"\n",
    "print(a)\n",
    "print()\n",
    "\n",
    "print(m[1][2])  # indexing in a list of lists\n",
    "print(a[1,2])  # indexing in a 2d array"
   ],
   "outputs": [
    {
     "name": "stdout",
     "output_type": "stream",
     "text": [
      "[[8, 9, 10, 11], [12, 13, 14, 15], [16, 17, 18, 19]] \n",
      "\n",
      "[[ 8.  9. 10. 11.]\n",
      " [12. 13. 14. 15.]\n",
      " [16. 17. 18. 19.]]\n",
      "\n",
      "14\n",
      "14.0\n"
     ]
    }
   ],
   "execution_count": 39
  },
  {
   "cell_type": "code",
   "metadata": {
    "ExecuteTime": {
     "end_time": "2025-07-08T19:21:52.610783Z",
     "start_time": "2025-07-08T19:21:52.606444Z"
    }
   },
   "source": [
    "## SHAPE is a tuple which represents the dimensions of the matrix\n",
    "\n",
    "l=np.linspace(3,8,5)\n",
    "print(l)\n",
    "print(l.shape)\n",
    "print()\n",
    "\n",
    "m=np.array([[1,2,3],[4,5,6],[7,8,9]])\n",
    "print(m)\n",
    "print(m.shape)\n",
    "print()\n",
    "\n",
    "n=np.array([[1,2,3,9],[4,5,6,9]])\n",
    "print(n)\n",
    "print(n.shape)\n",
    "print(type(n.shape))"
   ],
   "outputs": [
    {
     "name": "stdout",
     "output_type": "stream",
     "text": [
      "[3.   4.25 5.5  6.75 8.  ]\n",
      "(5,)\n",
      "\n",
      "[[1 2 3]\n",
      " [4 5 6]\n",
      " [7 8 9]]\n",
      "(3, 3)\n",
      "\n",
      "[[1 2 3 9]\n",
      " [4 5 6 9]]\n",
      "(2, 4)\n",
      "<class 'tuple'>\n"
     ]
    }
   ],
   "execution_count": 40
  },
  {
   "cell_type": "code",
   "metadata": {
    "ExecuteTime": {
     "end_time": "2025-07-08T19:22:12.544880Z",
     "start_time": "2025-07-08T19:22:12.541411Z"
    }
   },
   "source": [
    "## reshaping an array with RESHAPE\n",
    "\n",
    "a=np.arange(10)\n",
    "print(a)\n",
    "print()\n",
    "\n",
    "a=a.reshape((2,5))\n",
    "print(a)\n",
    "print()\n",
    "\n",
    "a=a.reshape(5,2)\n",
    "print(a)\n",
    "\n",
    "#a=a.reshape((3,4)) #error (since it requires 12 terms, and we have 10)"
   ],
   "outputs": [
    {
     "name": "stdout",
     "output_type": "stream",
     "text": [
      "[0 1 2 3 4 5 6 7 8 9]\n",
      "\n",
      "[[0 1 2 3 4]\n",
      " [5 6 7 8 9]]\n",
      "\n",
      "[[0 1]\n",
      " [2 3]\n",
      " [4 5]\n",
      " [6 7]\n",
      " [8 9]]\n"
     ]
    }
   ],
   "execution_count": 41
  },
  {
   "cell_type": "code",
   "metadata": {
    "ExecuteTime": {
     "end_time": "2025-07-08T19:22:29.346449Z",
     "start_time": "2025-07-08T19:22:29.342478Z"
    }
   },
   "source": [
    "## important technical point\n",
    "\n",
    "x=np.linspace(3,34,11)\n",
    "print(x)\n",
    "print(x.shape)\n",
    "\n",
    "y=np.linspace(3,34,11).reshape(1,11)  ## need this if we want to combine it with 2d arrays\n",
    "print(y)\n",
    "print(y.shape)"
   ],
   "outputs": [
    {
     "name": "stdout",
     "output_type": "stream",
     "text": [
      "[ 3.   6.1  9.2 12.3 15.4 18.5 21.6 24.7 27.8 30.9 34. ]\n",
      "(11,)\n",
      "[[ 3.   6.1  9.2 12.3 15.4 18.5 21.6 24.7 27.8 30.9 34. ]]\n",
      "(1, 11)\n"
     ]
    }
   ],
   "execution_count": 42
  },
  {
   "cell_type": "code",
   "metadata": {
    "ExecuteTime": {
     "end_time": "2025-07-08T19:24:14.336319Z",
     "start_time": "2025-07-08T19:24:14.332350Z"
    }
   },
   "source": [
    "## flattening an array with FLATTEN\n",
    "\n",
    "m=np.array([[1,2,3,4],[5,6,7,8],[9,10,11,12]])\n",
    "print(m)\n",
    "print()\n",
    "\n",
    "print(m.flatten()) # what will this look like? what dimension?\n",
    "\n",
    "\"\"\"you are taking a 3x4 array (2D), by flattening it into a 1D array\"\"\"\n",
    "print()\n",
    "\n",
    "print(m.reshape(6,2))\n",
    "print()"
   ],
   "outputs": [
    {
     "name": "stdout",
     "output_type": "stream",
     "text": [
      "[[ 1  2  3  4]\n",
      " [ 5  6  7  8]\n",
      " [ 9 10 11 12]]\n",
      "\n",
      "[ 1  2  3  4  5  6  7  8  9 10 11 12]\n",
      "\n",
      "[[ 1  2]\n",
      " [ 3  4]\n",
      " [ 5  6]\n",
      " [ 7  8]\n",
      " [ 9 10]\n",
      " [11 12]]\n",
      "\n"
     ]
    }
   ],
   "execution_count": 44
  },
  {
   "cell_type": "code",
   "metadata": {
    "ExecuteTime": {
     "end_time": "2025-07-08T19:25:07.451184Z",
     "start_time": "2025-07-08T19:25:07.445301Z"
    }
   },
   "source": [
    "## quickly creating a matrix\n",
    "\n",
    "x=np.linspace(3,8,36)  \n",
    "print(x)\n",
    "print()\n",
    "print(\"original shape of x=\",x.shape)\n",
    "print()\n",
    "\n",
    "a=x.reshape(1,36)\n",
    "print(\"a=\", a)\n",
    "print()\n",
    "print(\"shape of a=\", a.shape)\n",
    "print()\n",
    "\n",
    "b=x.reshape(9,4)\n",
    "print(\"b=\",b)\n",
    "print()\n",
    "\n",
    "c=x.reshape(6,6)\n",
    "print(\"c=\",c)\n",
    "print()\n",
    "\n",
    "M=np.linspace(1,24,24).reshape(3,8) ## create a matrix in one line\n",
    "print(\"M=\",M)\n",
    "print()\n",
    "\n",
    "N=np.arange(1,25,1).reshape(4,6) ## create a matrix in one line\n",
    "print(\"N=\",N)"
   ],
   "outputs": [
    {
     "name": "stdout",
     "output_type": "stream",
     "text": [
      "[3.         3.14285714 3.28571429 3.42857143 3.57142857 3.71428571\n",
      " 3.85714286 4.         4.14285714 4.28571429 4.42857143 4.57142857\n",
      " 4.71428571 4.85714286 5.         5.14285714 5.28571429 5.42857143\n",
      " 5.57142857 5.71428571 5.85714286 6.         6.14285714 6.28571429\n",
      " 6.42857143 6.57142857 6.71428571 6.85714286 7.         7.14285714\n",
      " 7.28571429 7.42857143 7.57142857 7.71428571 7.85714286 8.        ]\n",
      "\n",
      "original shape of x= (36,)\n",
      "\n",
      "a= [[3.         3.14285714 3.28571429 3.42857143 3.57142857 3.71428571\n",
      "  3.85714286 4.         4.14285714 4.28571429 4.42857143 4.57142857\n",
      "  4.71428571 4.85714286 5.         5.14285714 5.28571429 5.42857143\n",
      "  5.57142857 5.71428571 5.85714286 6.         6.14285714 6.28571429\n",
      "  6.42857143 6.57142857 6.71428571 6.85714286 7.         7.14285714\n",
      "  7.28571429 7.42857143 7.57142857 7.71428571 7.85714286 8.        ]]\n",
      "\n",
      "shape of a= (1, 36)\n",
      "\n",
      "b= [[3.         3.14285714 3.28571429 3.42857143]\n",
      " [3.57142857 3.71428571 3.85714286 4.        ]\n",
      " [4.14285714 4.28571429 4.42857143 4.57142857]\n",
      " [4.71428571 4.85714286 5.         5.14285714]\n",
      " [5.28571429 5.42857143 5.57142857 5.71428571]\n",
      " [5.85714286 6.         6.14285714 6.28571429]\n",
      " [6.42857143 6.57142857 6.71428571 6.85714286]\n",
      " [7.         7.14285714 7.28571429 7.42857143]\n",
      " [7.57142857 7.71428571 7.85714286 8.        ]]\n",
      "\n",
      "c= [[3.         3.14285714 3.28571429 3.42857143 3.57142857 3.71428571]\n",
      " [3.85714286 4.         4.14285714 4.28571429 4.42857143 4.57142857]\n",
      " [4.71428571 4.85714286 5.         5.14285714 5.28571429 5.42857143]\n",
      " [5.57142857 5.71428571 5.85714286 6.         6.14285714 6.28571429]\n",
      " [6.42857143 6.57142857 6.71428571 6.85714286 7.         7.14285714]\n",
      " [7.28571429 7.42857143 7.57142857 7.71428571 7.85714286 8.        ]]\n",
      "\n",
      "M= [[ 1.  2.  3.  4.  5.  6.  7.  8.]\n",
      " [ 9. 10. 11. 12. 13. 14. 15. 16.]\n",
      " [17. 18. 19. 20. 21. 22. 23. 24.]]\n",
      "\n",
      "N= [[ 1  2  3  4  5  6]\n",
      " [ 7  8  9 10 11 12]\n",
      " [13 14 15 16 17 18]\n",
      " [19 20 21 22 23 24]]\n"
     ]
    }
   ],
   "execution_count": 45
  },
  {
   "cell_type": "markdown",
   "metadata": {},
   "source": [
    "<b>SLICING</b>"
   ]
  },
  {
   "cell_type": "code",
   "metadata": {
    "ExecuteTime": {
     "end_time": "2025-07-08T19:29:41.729106Z",
     "start_time": "2025-07-08T19:29:41.723421Z"
    }
   },
   "source": [
    "## slicing 2d arrays ... slice in each dimension\n",
    "\n",
    "m=np.array([[8,9,10,11],[12,13,14,15],[16,17,18,19]])\n",
    "print(m)\n",
    "print()\n",
    "\n",
    "print(m[1,:]) # what will the output be? what dimension is the array?\n",
    "\"\"\"will row 1, all columns\n",
    "[12,13,14,15]\n",
    "dimension: 1 dimensions.\n",
    "\"\"\"\n",
    "print()\n",
    "\n",
    "print(m[:,2]) # what will the output be? what dimension is the array?\n",
    "\"\"\"will take all rows, column 2\n",
    "[10,14,18]\n",
    "dimension: 1 dimensions.\n",
    "\"\"\"\n",
    "print()\n",
    "\n",
    "print(m[0:3,2:3]) # how does this compare with the above result? #\n",
    "\"\"\"\n",
    "will take rows 0,1,2 and column 2\n",
    "creating 3 seperate entries\n",
    "\n",
    "[[10],[14],[18]], 2D\n",
    "\"\"\"\n",
    "print()\n",
    "\n",
    "print(m[1:,2:]) # 2 Dimensionss\n",
    "\"\"\"\n",
    "Row 1 onward, column 2 onward\n",
    "\n",
    "[[14,15],[18,19]], 2D\n",
    "\"\"\"\n",
    "print()\n",
    "\n",
    "print(m[0:2,1:4])\n",
    "\"\"\"Rows 0,1 and Columns 1,2,3\n",
    "\n",
    "[[9,10,11],[13,14,15]]\n",
    "\"\"\"\n",
    "print()"
   ],
   "outputs": [
    {
     "name": "stdout",
     "output_type": "stream",
     "text": [
      "[[ 8  9 10 11]\n",
      " [12 13 14 15]\n",
      " [16 17 18 19]]\n",
      "\n",
      "[12 13 14 15]\n",
      "\n",
      "[10 14 18]\n",
      "\n",
      "[[10]\n",
      " [14]\n",
      " [18]]\n",
      "\n",
      "[[14 15]\n",
      " [18 19]]\n",
      "\n",
      "[[ 9 10 11]\n",
      " [13 14 15]]\n",
      "\n"
     ]
    }
   ],
   "execution_count": 46
  },
  {
   "cell_type": "code",
   "metadata": {
    "ExecuteTime": {
     "end_time": "2025-07-08T19:59:48.452533Z",
     "start_time": "2025-07-08T19:59:48.444599Z"
    }
   },
   "source": [
    "## exercise: extract cofactor matrices of a 3 by 3 matrix\n",
    "\n",
    "matrix=[[1,2,3],[4,5,6],[7,8,9]]\n",
    "m=np.array(matrix)\n",
    "print(m)\n",
    "print()\n",
    "\n",
    "c00=m[1:,1:]\n",
    "print(c00)\n",
    "print()\n",
    "\n",
    "c01=m[1:,0::2] ## note the stride!\n",
    "\"\"\"Stride being the step size... equivalent termonology\"\"\"\n",
    "print(c01)\n",
    "print()\n",
    "\n",
    "c02=m[1:,:2]\n",
    "print(c02)"
   ],
   "outputs": [
    {
     "name": "stdout",
     "output_type": "stream",
     "text": [
      "[[1 2 3]\n",
      " [4 5 6]\n",
      " [7 8 9]]\n",
      "\n",
      "[[5 6]\n",
      " [8 9]]\n",
      "\n",
      "[[4 6]\n",
      " [7 9]]\n",
      "\n",
      "[[4 5]\n",
      " [7 8]]\n"
     ]
    }
   ],
   "execution_count": 47
  },
  {
   "cell_type": "code",
   "metadata": {
    "ExecuteTime": {
     "end_time": "2025-07-08T20:01:02.525814Z",
     "start_time": "2025-07-08T20:01:02.522507Z"
    }
   },
   "source": [
    "## exercise: the determinant of a 2 by 2 matrix \n",
    "\n",
    "def det2by2(m):\n",
    "    return m[0,0]*m[1,1]-m[0,1]*m[1,0]\n",
    "\n",
    "m=np.array([[1,2],[3,4]])\n",
    "print(det2by2(m))\n",
    "\n",
    "m=np.array([[1,2],[10,20]])\n",
    "print(det2by2(m))"
   ],
   "outputs": [
    {
     "name": "stdout",
     "output_type": "stream",
     "text": [
      "-2\n",
      "0\n"
     ]
    }
   ],
   "execution_count": 48
  },
  {
   "cell_type": "code",
   "metadata": {
    "ExecuteTime": {
     "end_time": "2025-07-08T20:08:42.093264Z",
     "start_time": "2025-07-08T20:08:42.088022Z"
    }
   },
   "source": [
    "## exercise: define the function det3by3(m) that computes the determinant of a 3 by 3 matrix\n",
    "matrix=[[1,2,3],[4,5,6],[7,8,9]]\n",
    "m = np.array(matrix)\n",
    "def det3by3(m):\n",
    "    return m[0,0]*(m[1,1]*m[2,2] - m[1,2]*m[2,1])-m[0,1]*(m[1,0]*m[2,2] - m[1,2]*m[2,0])+m[0,2]*(m[1,0]*m[2,1] - m[1,1]*m[2,0])\n",
    "\n",
    "print(det3by3(m))\n"
   ],
   "outputs": [
    {
     "name": "stdout",
     "output_type": "stream",
     "text": [
      "0\n"
     ]
    }
   ],
   "execution_count": 52
  },
  {
   "cell_type": "markdown",
   "metadata": {},
   "source": [
    "<b> ELEMENTARY ALGEBRAIC OPERATIONS </b>"
   ]
  },
  {
   "cell_type": "code",
   "metadata": {
    "ExecuteTime": {
     "end_time": "2025-07-08T20:09:15.175590Z",
     "start_time": "2025-07-08T20:09:15.170551Z"
    }
   },
   "source": [
    "## elementary algebraic operations on a single array\n",
    "\n",
    "a = np.array([[1, 2, 3], [4, 5, 6], [7, 8, 9]])\n",
    "\n",
    "print('a =\\n',a,'\\n')\n",
    "print('a+4 =\\n',a+4,'\\n')\n",
    "print('10*a =\\n',10*a,'\\n')\n",
    "print('a/10 =\\n',a/10,'\\n')"
   ],
   "outputs": [
    {
     "name": "stdout",
     "output_type": "stream",
     "text": [
      "a =\n",
      " [[1 2 3]\n",
      " [4 5 6]\n",
      " [7 8 9]] \n",
      "\n",
      "a+4 =\n",
      " [[ 5  6  7]\n",
      " [ 8  9 10]\n",
      " [11 12 13]] \n",
      "\n",
      "10*a =\n",
      " [[10 20 30]\n",
      " [40 50 60]\n",
      " [70 80 90]] \n",
      "\n",
      "a/10 =\n",
      " [[0.1 0.2 0.3]\n",
      " [0.4 0.5 0.6]\n",
      " [0.7 0.8 0.9]] \n",
      "\n"
     ]
    }
   ],
   "execution_count": 53
  },
  {
   "cell_type": "code",
   "metadata": {
    "ExecuteTime": {
     "end_time": "2025-07-08T20:09:24.308390Z",
     "start_time": "2025-07-08T20:09:24.304139Z"
    }
   },
   "source": [
    "## elementary algebraic operations on two arrays\n",
    "\n",
    "a = np.array([[1, 2, 3], [4, 5, 6], [7, 8, 9]])\n",
    "b = np.array([[-1, -3, 0], [0,0,0], [1,2,3]])\n",
    "\n",
    "print('a =\\n',a,'\\n')\n",
    "print('b =\\n',b,'\\n')\n",
    "print('a+b =\\n',a+b,'\\n')   # element-wise addition \n",
    "print('a*b =\\n',a*b,'\\n')  # element-wise multiplication\n",
    "print('b/a =\\n',b/a,'\\n')   # element-wise division - applications?\n",
    "\n",
    "\"\"\"\n",
    "for image processing, data analysis, machine learning\n",
    "\n",
    "if you want to normalize pixel values in a range you can perform element wise division on the values.\n",
    "\"\"\""
   ],
   "outputs": [
    {
     "name": "stdout",
     "output_type": "stream",
     "text": [
      "a =\n",
      " [[1 2 3]\n",
      " [4 5 6]\n",
      " [7 8 9]] \n",
      "\n",
      "b =\n",
      " [[-1 -3  0]\n",
      " [ 0  0  0]\n",
      " [ 1  2  3]] \n",
      "\n",
      "a+b =\n",
      " [[ 0 -1  3]\n",
      " [ 4  5  6]\n",
      " [ 8 10 12]] \n",
      "\n",
      "a*b =\n",
      " [[-1 -6  0]\n",
      " [ 0  0  0]\n",
      " [ 7 16 27]] \n",
      "\n",
      "b/a =\n",
      " [[-1.         -1.5         0.        ]\n",
      " [ 0.          0.          0.        ]\n",
      " [ 0.14285714  0.25        0.33333333]] \n",
      "\n"
     ]
    }
   ],
   "execution_count": 54
  },
  {
   "cell_type": "markdown",
   "metadata": {},
   "source": [
    "<b> CONCATENATING ARRAYS </b>"
   ]
  },
  {
   "cell_type": "code",
   "metadata": {
    "ExecuteTime": {
     "end_time": "2025-07-08T20:12:34.906478Z",
     "start_time": "2025-07-08T20:12:34.901616Z"
    }
   },
   "source": [
    "## concatenating arrays - defaults\n",
    "\n",
    "a=np.array([[1, 2, 3], [4, 5, 6], [7, 8, 9]])\n",
    "print(a)\n",
    "print(\"dimensions:\", a.shape)\n",
    "print()\n",
    "\n",
    "b=np.array([[10, 11, 12], [13, 14, 15]])\n",
    "print(b)\n",
    "print(\"dimensions:\", b.shape)\n",
    "print()\n",
    "\n",
    "c=np.concatenate((a,b)) \n",
    "print(c)\n",
    "print()\n",
    "\n",
    "d=np.concatenate((b,a))\n",
    "print(d)"
   ],
   "outputs": [
    {
     "name": "stdout",
     "output_type": "stream",
     "text": [
      "[[1 2 3]\n",
      " [4 5 6]\n",
      " [7 8 9]]\n",
      "dimensions: (3, 3)\n",
      "\n",
      "[[10 11 12]\n",
      " [13 14 15]]\n",
      "dimensions: (2, 3)\n",
      "\n",
      "[[ 1  2  3]\n",
      " [ 4  5  6]\n",
      " [ 7  8  9]\n",
      " [10 11 12]\n",
      " [13 14 15]]\n",
      "\n",
      "[[10 11 12]\n",
      " [13 14 15]\n",
      " [ 1  2  3]\n",
      " [ 4  5  6]\n",
      " [ 7  8  9]]\n"
     ]
    }
   ],
   "execution_count": 55
  },
  {
   "cell_type": "code",
   "metadata": {
    "ExecuteTime": {
     "end_time": "2025-07-08T20:12:46.118692Z",
     "start_time": "2025-07-08T20:12:46.113777Z"
    }
   },
   "source": [
    "## concatenating with axes\n",
    "\n",
    "a=np.arange(0,12).reshape(3,4) # quick matrix\n",
    "print(\"a=\\n\",a,'\\n')\n",
    "b=np.arange(100,112).reshape(3,4) # quick matrix\n",
    "print(\"b=\\n\",b, '\\n')\n",
    "\n",
    "print(\"a concatenate b, axis=0: \\n\",np.concatenate((a,b),axis=0),'\\n') # x-axis is the \"line\" of reference for\n",
    "                                                                       # concatenation (ie concatenate above/below)\n",
    "print(\"a concatenate b, axis=1: \\n\",np.concatenate((a,b),axis=1),'\\n') # y-axis is the \"line\" of reference for \n",
    "                                                                       # concatenation (ie concatenate left/right)\n",
    "print(\"b concatenate a, axis=1: \\n\",np.concatenate((b,a),axis=1))"
   ],
   "outputs": [
    {
     "name": "stdout",
     "output_type": "stream",
     "text": [
      "a=\n",
      " [[ 0  1  2  3]\n",
      " [ 4  5  6  7]\n",
      " [ 8  9 10 11]] \n",
      "\n",
      "b=\n",
      " [[100 101 102 103]\n",
      " [104 105 106 107]\n",
      " [108 109 110 111]] \n",
      "\n",
      "a concatenate b, axis=0: \n",
      " [[  0   1   2   3]\n",
      " [  4   5   6   7]\n",
      " [  8   9  10  11]\n",
      " [100 101 102 103]\n",
      " [104 105 106 107]\n",
      " [108 109 110 111]] \n",
      "\n",
      "a concatenate b, axis=1: \n",
      " [[  0   1   2   3 100 101 102 103]\n",
      " [  4   5   6   7 104 105 106 107]\n",
      " [  8   9  10  11 108 109 110 111]] \n",
      "\n",
      "b concatenate a, axis=1: \n",
      " [[100 101 102 103   0   1   2   3]\n",
      " [104 105 106 107   4   5   6   7]\n",
      " [108 109 110 111   8   9  10  11]]\n"
     ]
    }
   ],
   "execution_count": 56
  },
  {
   "cell_type": "markdown",
   "metadata": {},
   "source": [
    "<b> NUMPY METHODS </b>"
   ]
  },
  {
   "cell_type": "code",
   "metadata": {
    "ExecuteTime": {
     "end_time": "2025-07-08T20:12:53.504261Z",
     "start_time": "2025-07-08T20:12:53.500038Z"
    }
   },
   "source": [
    "## sum, product, mean\n",
    "\n",
    "a=np.arange(1,13,dtype=int).reshape(3,4)\n",
    "print(\"a =\\n\", a, '\\n')\n",
    "\n",
    "print(\"sum of all entries =\", a.sum(), '\\n')\n",
    "print(\"product of all entries =\", a.prod(),'<-Compare with 12!=',math.factorial(12), '\\n')\n",
    "print(\"mean of all entries =\", a.mean(),'<-Compare with a.sum()/12=',a.sum()/12, '\\n')"
   ],
   "outputs": [
    {
     "name": "stdout",
     "output_type": "stream",
     "text": [
      "a =\n",
      " [[ 1  2  3  4]\n",
      " [ 5  6  7  8]\n",
      " [ 9 10 11 12]] \n",
      "\n",
      "sum of all entries = 78 \n",
      "\n",
      "product of all entries = 479001600 <-Compare with 12!= 479001600 \n",
      "\n",
      "mean of all entries = 6.5 <-Compare with a.sum()/12= 6.5 \n",
      "\n"
     ]
    }
   ],
   "execution_count": 57
  },
  {
   "cell_type": "code",
   "metadata": {
    "ExecuteTime": {
     "end_time": "2025-07-08T20:14:01.211930Z",
     "start_time": "2025-07-08T20:14:01.208115Z"
    }
   },
   "source": [
    "## exercise: calculate the standard norm of a square matrix\n",
    "\n",
    "def matrix_norm(m):\n",
    "    row,col=m.shape\n",
    "    s=0\n",
    "    for i in range(row):\n",
    "        for j in range(col):\n",
    "            s+=(m[i,j])**2\n",
    "    return np.sqrt(s)\n",
    "\n",
    "m=np.array([[1,2,3],[4,5,6],[7,8,9]])\n",
    "print(\"norm of m =\", matrix_norm(m),\"\\n\")"
   ],
   "outputs": [
    {
     "name": "stdout",
     "output_type": "stream",
     "text": [
      "norm of m = 16.881943016134134 \n",
      "\n"
     ]
    }
   ],
   "execution_count": 58
  },
  {
   "cell_type": "code",
   "metadata": {
    "ExecuteTime": {
     "end_time": "2025-07-08T20:14:02.830741Z",
     "start_time": "2025-07-08T20:14:02.827347Z"
    }
   },
   "source": [
    "## exercise: calculate the standard norm of a square matrix using numpy methods\n",
    "\n",
    "m=np.array([[1,2,3],[4,5,6],[7,8,9]])\n",
    "print(\"norm of m =\", np.sqrt(np.sum(m*m)),\"\\n\")"
   ],
   "outputs": [
    {
     "name": "stdout",
     "output_type": "stream",
     "text": [
      "norm of m = 16.881943016134134 \n",
      "\n"
     ]
    }
   ],
   "execution_count": 59
  },
  {
   "cell_type": "markdown",
   "metadata": {},
   "source": [
    "<b> SOME SPECIAL ARRAYS </b>"
   ]
  },
  {
   "cell_type": "code",
   "metadata": {
    "ExecuteTime": {
     "end_time": "2025-07-08T20:14:07.776022Z",
     "start_time": "2025-07-08T20:14:07.770930Z"
    }
   },
   "source": [
    "## matrices with zeros and ones (in the same dimensions as some other matrix)\n",
    "\n",
    "m=np.array([[1,2,3],[4,5,6]])\n",
    "print(m,'\\n')\n",
    "\n",
    "b=np.ones_like(m)\n",
    "print(b,'\\n')\n",
    "\n",
    "c=np.zeros_like(m)\n",
    "print(c,'\\n')"
   ],
   "outputs": [
    {
     "name": "stdout",
     "output_type": "stream",
     "text": [
      "[[1 2 3]\n",
      " [4 5 6]] \n",
      "\n",
      "[[1 1 1]\n",
      " [1 1 1]] \n",
      "\n",
      "[[0 0 0]\n",
      " [0 0 0]] \n",
      "\n"
     ]
    }
   ],
   "execution_count": 60
  },
  {
   "cell_type": "code",
   "metadata": {
    "ExecuteTime": {
     "end_time": "2025-07-08T20:14:22.959008Z",
     "start_time": "2025-07-08T20:14:22.953931Z"
    }
   },
   "source": [
    "## special matrices (identity and off diagonal)\n",
    "\n",
    "i=np.identity(4,dtype=int) ## ones on the diagonal\n",
    "print(i,'\\n')\n",
    "\n",
    "i=np.eye(4,k=0) ## ones on the diagonal\n",
    "print(i,'\\n')\n",
    "\n",
    "i=np.eye(4,k=1) ## ones shifted UP one from the diagonal\n",
    "print(i,'\\n')\n",
    "\n",
    "i=np.eye(4,k=-2)  ## ones shifted UP one from the diagonal\n",
    "print(i)"
   ],
   "outputs": [
    {
     "name": "stdout",
     "output_type": "stream",
     "text": [
      "[[1 0 0 0]\n",
      " [0 1 0 0]\n",
      " [0 0 1 0]\n",
      " [0 0 0 1]] \n",
      "\n",
      "[[1. 0. 0. 0.]\n",
      " [0. 1. 0. 0.]\n",
      " [0. 0. 1. 0.]\n",
      " [0. 0. 0. 1.]] \n",
      "\n",
      "[[0. 1. 0. 0.]\n",
      " [0. 0. 1. 0.]\n",
      " [0. 0. 0. 1.]\n",
      " [0. 0. 0. 0.]] \n",
      "\n",
      "[[0. 0. 0. 0.]\n",
      " [0. 0. 0. 0.]\n",
      " [1. 0. 0. 0.]\n",
      " [0. 1. 0. 0.]]\n"
     ]
    }
   ],
   "execution_count": 61
  },
  {
   "cell_type": "code",
   "metadata": {
    "ExecuteTime": {
     "end_time": "2025-07-08T20:14:31.363610Z",
     "start_time": "2025-07-08T20:14:31.357343Z"
    }
   },
   "source": [
    "## array iteration\n",
    "\n",
    "c=np.arange(2,10,3,dtype=float)\n",
    "print(\"c =\",c,'\\n')\n",
    "\n",
    "for x in c:\n",
    "    print(x)\n",
    "    \n",
    "a=np.array([[4, -3, 5], [1, 0, 6], [13, -3, 7]], float)\n",
    "print('\\n a = \\n',a,'\\n')\n",
    "\n",
    "for x in a:\n",
    "    print(x)\n",
    "print()\n",
    "\n",
    "c=np.array([[4, -3, 5], [1, 0, 6], [13, -3, 7]], float)\n",
    "print(\"c = \\n\",a,'\\n')\n",
    " \n",
    "for [i,j,k] in c:\n",
    "    print(i)\n",
    "    print(j)\n",
    "    print(k)"
   ],
   "outputs": [
    {
     "name": "stdout",
     "output_type": "stream",
     "text": [
      "c = [2. 5. 8.] \n",
      "\n",
      "2.0\n",
      "5.0\n",
      "8.0\n",
      "\n",
      " a = \n",
      " [[ 4. -3.  5.]\n",
      " [ 1.  0.  6.]\n",
      " [13. -3.  7.]] \n",
      "\n",
      "[ 4. -3.  5.]\n",
      "[1. 0. 6.]\n",
      "[13. -3.  7.]\n",
      "\n",
      "c = \n",
      " [[ 4. -3.  5.]\n",
      " [ 1.  0.  6.]\n",
      " [13. -3.  7.]] \n",
      "\n",
      "4.0\n",
      "-3.0\n",
      "5.0\n",
      "1.0\n",
      "0.0\n",
      "6.0\n",
      "13.0\n",
      "-3.0\n",
      "7.0\n"
     ]
    }
   ],
   "execution_count": 62
  },
  {
   "cell_type": "markdown",
   "metadata": {},
   "source": [
    "<b>SOME NUMPY METHODS FOR LINEAR ALGEBRA * Optional *</b>"
   ]
  },
  {
   "cell_type": "code",
   "metadata": {
    "ExecuteTime": {
     "end_time": "2025-07-08T20:14:38.007955Z",
     "start_time": "2025-07-08T20:14:38.001755Z"
    }
   },
   "source": [
    "## np.dot, np.cross, np.transpose()\n",
    "\n",
    "a=np.array([[1 , 2], [3 , 4], [5, 6]])\n",
    "b=np.array([4, 5, 6], float)\n",
    "c=np.array([-1, -2, -3], float)\n",
    "d=np.array([[1, 0, 2, -1], [0, 1, 2, -3]])\n",
    "\n",
    "print('a=\\n',a, '\\n')\n",
    "print('b=\\n',b, '\\n')\n",
    "print('c=\\n',c, '\\n')\n",
    "print('d=\\n',d, '\\n')\n",
    "\n",
    "print(\"vector dot product:\\n\", np.dot(b,c), '\\n')  # dot (scalar) product of vectors\n",
    "print(\"matrix product:\\n\", np.dot(a, d), '\\n')  # matrix product, axb\n",
    "print(\"vector cross product:\\n\", np.cross(b,c), '\\n') # cross (vector) product of vectors\n",
    "print(\"vector cross product:\\n\", np.cross(c,b), '\\n') # cross (vector) product of vectors\n",
    "print(\"matrix transpose:\\n\",d.transpose(), '\\n') # transpose of a matrix, d^T\n",
    "print(\"matrix transpose, take II:\\n\", d.T) # alternative way to use method"
   ],
   "outputs": [
    {
     "name": "stdout",
     "output_type": "stream",
     "text": [
      "a=\n",
      " [[1 2]\n",
      " [3 4]\n",
      " [5 6]] \n",
      "\n",
      "b=\n",
      " [4. 5. 6.] \n",
      "\n",
      "c=\n",
      " [-1. -2. -3.] \n",
      "\n",
      "d=\n",
      " [[ 1  0  2 -1]\n",
      " [ 0  1  2 -3]] \n",
      "\n",
      "vector dot product:\n",
      " -32.0 \n",
      "\n",
      "matrix product:\n",
      " [[  1   2   6  -7]\n",
      " [  3   4  14 -15]\n",
      " [  5   6  22 -23]] \n",
      "\n",
      "vector cross product:\n",
      " [-3.  6. -3.] \n",
      "\n",
      "vector cross product:\n",
      " [ 3. -6.  3.] \n",
      "\n",
      "matrix transpose:\n",
      " [[ 1  0]\n",
      " [ 0  1]\n",
      " [ 2  2]\n",
      " [-1 -3]] \n",
      "\n",
      "matrix transpose, take II:\n",
      " [[ 1  0]\n",
      " [ 0  1]\n",
      " [ 2  2]\n",
      " [-1 -3]]\n"
     ]
    }
   ],
   "execution_count": 63
  },
  {
   "cell_type": "code",
   "metadata": {
    "ExecuteTime": {
     "end_time": "2025-07-08T20:14:50.857243Z",
     "start_time": "2025-07-08T20:14:50.847344Z"
    }
   },
   "source": [
    "## determinants, inverse, matrix products \n",
    "\n",
    "a=np.array([[4, 2, 0], [9, 3, 7], [1, 2, 1]], float)\n",
    "print(a,'\\n',np.linalg.det(a), \"\\n\")\n",
    "\n",
    "b=np.linalg.inv(a)\n",
    "print(b, \"\\n\")\n",
    "print(np.dot(a,b), \"\\n\") # axb=I\n",
    "print(np.dot(b,a), \"\\n\") # bxa=I"
   ],
   "outputs": [
    {
     "name": "stdout",
     "output_type": "stream",
     "text": [
      "[[4. 2. 0.]\n",
      " [9. 3. 7.]\n",
      " [1. 2. 1.]] \n",
      " -48.00000000000003 \n",
      "\n",
      "[[ 0.22916667  0.04166667 -0.29166667]\n",
      " [ 0.04166667 -0.08333333  0.58333333]\n",
      " [-0.3125      0.125       0.125     ]] \n",
      "\n",
      "[[1.00000000e+00 5.55111512e-17 0.00000000e+00]\n",
      " [0.00000000e+00 1.00000000e+00 2.22044605e-16]\n",
      " [2.77555756e-17 0.00000000e+00 1.00000000e+00]] \n",
      "\n",
      "[[ 1.00000000e+00  1.11022302e-16  1.11022302e-16]\n",
      " [ 0.00000000e+00  1.00000000e+00  0.00000000e+00]\n",
      " [-2.22044605e-16 -5.55111512e-17  1.00000000e+00]] \n",
      "\n"
     ]
    }
   ],
   "execution_count": 64
  },
  {
   "cell_type": "markdown",
   "metadata": {},
   "source": [
    "<b><u>WHICH NUMPY ARRAYS COMMANDS YOU NEED TO KNOW</u>:</b>\n",
    "\n",
    "np.array(..., dtype)\n",
    "\n",
    "np.arange\n",
    "\n",
    "np.linspace\n",
    "\n",
    ".shape  \n",
    "\n",
    ".reshape\n",
    "\n",
    "np.concatenate\n",
    "\n",
    "np.identity\n",
    "\n",
    ".sum()\n",
    "\n",
    ".prod()\n",
    "\n",
    ".mean()"
   ]
  }
 ],
 "metadata": {
  "kernelspec": {
   "display_name": "Python 3 (ipykernel)",
   "language": "python",
   "name": "python3"
  },
  "language_info": {
   "codemirror_mode": {
    "name": "ipython",
    "version": 3
   },
   "file_extension": ".py",
   "mimetype": "text/x-python",
   "name": "python",
   "nbconvert_exporter": "python",
   "pygments_lexer": "ipython3",
   "version": "3.9.13"
  }
 },
 "nbformat": 4,
 "nbformat_minor": 4
}
