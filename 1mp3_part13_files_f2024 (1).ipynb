{
 "cells": [
  {
   "cell_type": "markdown",
   "metadata": {},
   "source": [
    "<h3>FILES</h3>\n",
    "\n",
    "A <b>file</b> is anything that contains <b>data</b>. A file is external to your coding environment and you'll need to first import or upload it here in order to work with it.\n",
    "\n",
    "<u>NOTE</u>: You do not need to know commands for manipulating files in the sense that they will not appear on a test or exam. However, pay attention to familiarize yourself with basic file commands as you will likely enounter them in courses which use Python (or a similar programming language). Of course, once data is extracted from a file, you need to know how to work with it. Examples that we discuss will illustrate this point."
   ]
  },
  {
   "cell_type": "markdown",
   "metadata": {},
   "source": [
    "EXAMPLE WITH A TEXT FILE"
   ]
  },
  {
   "cell_type": "code",
   "metadata": {
    "ExecuteTime": {
     "end_time": "2025-07-08T15:17:30.518678Z",
     "start_time": "2025-07-08T15:17:30.233072Z"
    }
   },
   "source": [
    "## open a file in read mode, read the entire contents into a string and then print it\n",
    "## Note: We have to have the file 'recipe.txt' saved in the same directory where this notebook is located!\n",
    "\n",
    "f=open('recipe.txt','r')   # 'r' for read \n",
    "content_string=f.read()   # the entire file is read as one string\n",
    "print(content_string)  \n",
    "f.close()"
   ],
   "outputs": [
    {
     "ename": "FileNotFoundError",
     "evalue": "[Errno 2] No such file or directory: 'recipe.txt'",
     "output_type": "error",
     "traceback": [
      "\u001B[0;31m---------------------------------------------------------------------------\u001B[0m",
      "\u001B[0;31mFileNotFoundError\u001B[0m                         Traceback (most recent call last)",
      "Cell \u001B[0;32mIn[1], line 4\u001B[0m\n\u001B[1;32m      1\u001B[0m \u001B[38;5;66;03m## open a file in read mode, read the entire contents into a string and then print it\u001B[39;00m\n\u001B[1;32m      2\u001B[0m \u001B[38;5;66;03m## Note: We have to have the file 'recipe.txt' saved in the same directory where this notebook is located!\u001B[39;00m\n\u001B[0;32m----> 4\u001B[0m f\u001B[38;5;241m=\u001B[39m\u001B[38;5;28;43mopen\u001B[39;49m\u001B[43m(\u001B[49m\u001B[38;5;124;43m'\u001B[39;49m\u001B[38;5;124;43mrecipe.txt\u001B[39;49m\u001B[38;5;124;43m'\u001B[39;49m\u001B[43m,\u001B[49m\u001B[38;5;124;43m'\u001B[39;49m\u001B[38;5;124;43mr\u001B[39;49m\u001B[38;5;124;43m'\u001B[39;49m\u001B[43m)\u001B[49m   \u001B[38;5;66;03m# 'r' for read \u001B[39;00m\n\u001B[1;32m      5\u001B[0m content_string\u001B[38;5;241m=\u001B[39mf\u001B[38;5;241m.\u001B[39mread()   \u001B[38;5;66;03m# the entire file is read as one string\u001B[39;00m\n\u001B[1;32m      6\u001B[0m \u001B[38;5;28mprint\u001B[39m(content_string)  \n",
      "File \u001B[0;32m~/Desktop/numpyPractice/.venv/lib/python3.9/site-packages/IPython/core/interactiveshell.py:310\u001B[0m, in \u001B[0;36m_modified_open\u001B[0;34m(file, *args, **kwargs)\u001B[0m\n\u001B[1;32m    303\u001B[0m \u001B[38;5;28;01mif\u001B[39;00m file \u001B[38;5;129;01min\u001B[39;00m {\u001B[38;5;241m0\u001B[39m, \u001B[38;5;241m1\u001B[39m, \u001B[38;5;241m2\u001B[39m}:\n\u001B[1;32m    304\u001B[0m     \u001B[38;5;28;01mraise\u001B[39;00m \u001B[38;5;167;01mValueError\u001B[39;00m(\n\u001B[1;32m    305\u001B[0m         \u001B[38;5;124mf\u001B[39m\u001B[38;5;124m\"\u001B[39m\u001B[38;5;124mIPython won\u001B[39m\u001B[38;5;124m'\u001B[39m\u001B[38;5;124mt let you open fd=\u001B[39m\u001B[38;5;132;01m{\u001B[39;00mfile\u001B[38;5;132;01m}\u001B[39;00m\u001B[38;5;124m by default \u001B[39m\u001B[38;5;124m\"\u001B[39m\n\u001B[1;32m    306\u001B[0m         \u001B[38;5;124m\"\u001B[39m\u001B[38;5;124mas it is likely to crash IPython. If you know what you are doing, \u001B[39m\u001B[38;5;124m\"\u001B[39m\n\u001B[1;32m    307\u001B[0m         \u001B[38;5;124m\"\u001B[39m\u001B[38;5;124myou can use builtins\u001B[39m\u001B[38;5;124m'\u001B[39m\u001B[38;5;124m open.\u001B[39m\u001B[38;5;124m\"\u001B[39m\n\u001B[1;32m    308\u001B[0m     )\n\u001B[0;32m--> 310\u001B[0m \u001B[38;5;28;01mreturn\u001B[39;00m \u001B[43mio_open\u001B[49m\u001B[43m(\u001B[49m\u001B[43mfile\u001B[49m\u001B[43m,\u001B[49m\u001B[43m \u001B[49m\u001B[38;5;241;43m*\u001B[39;49m\u001B[43margs\u001B[49m\u001B[43m,\u001B[49m\u001B[43m \u001B[49m\u001B[38;5;241;43m*\u001B[39;49m\u001B[38;5;241;43m*\u001B[39;49m\u001B[43mkwargs\u001B[49m\u001B[43m)\u001B[49m\n",
      "\u001B[0;31mFileNotFoundError\u001B[0m: [Errno 2] No such file or directory: 'recipe.txt'"
     ]
    }
   ],
   "execution_count": 1
  },
  {
   "cell_type": "code",
   "execution_count": null,
   "metadata": {},
   "outputs": [],
   "source": [
    "## REPRESENTATION: to see exactly what it looks like, i.e., how Python sees it \n",
    "## Note: \\n = new line\n",
    "\n",
    "print(repr(content_string))   "
   ]
  },
  {
   "cell_type": "code",
   "execution_count": null,
   "metadata": {},
   "outputs": [],
   "source": [
    "## reading and printing an entire file; short \n",
    "\n",
    "f=open('recipe.txt','r')    \n",
    "print(f.read())  # prints the entire file\n",
    "f.close()  # you don't have to close the file, but it helps python run efficiently"
   ]
  },
  {
   "cell_type": "code",
   "execution_count": null,
   "metadata": {},
   "outputs": [],
   "source": [
    "## reading and printing parts of a file\n",
    "\n",
    "f=open('recipe.txt','r') \n",
    "\n",
    "print(\"first 13 characters are--> \",f.read(13))  ## python reads the first 13 characters;\n",
    "                                                 ## reader now positioned at location 13\n",
    "                                                 ## which is reset to location 0\n",
    "print(\"next 10 characters are--> \",f.read(10))  ## python reads the next 10 characters  \n",
    "                                                ## reader position is reset to 0\n",
    "print(\"remaining part--> \",f.read())      ## python reads rest of the file\n",
    "\n",
    "f.close()"
   ]
  },
  {
   "cell_type": "code",
   "execution_count": null,
   "metadata": {},
   "outputs": [],
   "source": [
    "## moving/resetting the \"head\" or the \"file reader\"\n",
    "\n",
    "f=open('recipe.txt','r')   \n",
    "            \n",
    "print(\"first 13 characters are--> \", f.read(13))\n",
    "\n",
    "f.seek(0)  ## resets header back to position 0\n",
    "print(\"first 3 characters are--> \", f.read(3))\n",
    "\n",
    "f.seek(3)  ## resets header back to position 3\n",
    "print(\"20 characters starting from character indexed by 3--> \", f.read(20))\n",
    "\n",
    "f.close()"
   ]
  },
  {
   "cell_type": "code",
   "execution_count": null,
   "metadata": {},
   "outputs": [],
   "source": [
    "## files as strings/lines\n",
    "\n",
    "f=open('recipe.txt','r')\n",
    "\n",
    "print(\"FIRST 4 LINES OF THE FILE: \\n\")\n",
    "\n",
    "line=f.readline()  ## f is viewed as being made up of lines; first line is assigned to 'line'\n",
    "print(\"Line 1:\", line)        ## note: python keeps track of how much has been read\n",
    "\n",
    "line=f.readline()  # second line (first unread line) is now assigned to 'line'\n",
    "print(\"Line 2:\", line)\n",
    "line=f.readline()  # third line is now assigned to 'line'\n",
    "print(\"Line 3:\", line)\n",
    "line=f.readline()  # 4th line is now assigned to 'line'\n",
    "print(\"Line 4:\", line)\n",
    "print()\n",
    "print()\n",
    "\n",
    "\n",
    "## printing the first 6 lines of the file\n",
    "\n",
    "print(\"FIRST 6 LINES OF THE FILE: \\n\")\n",
    "\n",
    "f.seek(0)  \n",
    "for i in range(6):    \n",
    "    print(f.readline())\n",
    "\n",
    "f.close()"
   ]
  },
  {
   "cell_type": "code",
   "execution_count": null,
   "metadata": {},
   "outputs": [],
   "source": [
    "## or, like this\n",
    "\n",
    "f=open('recipe.txt','r')  \n",
    "\n",
    "ctr=0\n",
    "for line in f:   \n",
    "    print(line)\n",
    "    ctr+=1\n",
    "print(\"This file has\",ctr,\"lines.\\n\")\n",
    "\n",
    "f.close()\n",
    "\n",
    "\n",
    "## treating file as one long string\n",
    "\n",
    "f=open('recipe.txt','r')  \n",
    "\n",
    "content_string=f.read(28)  # reads the first 28 characters and assigns to the string 'content_string'\n",
    "\n",
    "for ch in content_string:\n",
    "    print(ch)\n",
    "    \n",
    "f.close()"
   ]
  },
  {
   "cell_type": "markdown",
   "metadata": {},
   "source": [
    "WORKING WITH COURSE GRADES"
   ]
  },
  {
   "cell_type": "code",
   "execution_count": null,
   "metadata": {},
   "outputs": [],
   "source": [
    "## read a text file of letter grades\n",
    "## what does it look like?\n",
    "\n",
    "f=open(\"coursegrades.txt\")\n",
    "\n",
    "\n",
    "## print the whole file:\n",
    "\n",
    "#for line in f:\n",
    "    #print(line)\n",
    "    \n",
    "\n",
    "## print only the first 5 lines:\n",
    "\n",
    "for i in range(0,5):  ## this just controls how many lines are read and printed\n",
    "    print(f.readline()) \n",
    "    \n",
    "    \n",
    "## print only some characters at a time\n",
    "\n",
    "f.seek(0)\n",
    "print(f.read(4))  ## f is treated as one long string and the first 4 characters are printed\n",
    "print(f.read(5))  ## the next 5 characters are printed\n",
    "#print(f.read(9))\n",
    "#print(f.read(18))\n",
    "\n",
    "f.close()"
   ]
  },
  {
   "cell_type": "code",
   "execution_count": null,
   "metadata": {},
   "outputs": [],
   "source": [
    "## how does python see this file?\n",
    "\n",
    "f=open(\"coursegrades.txt\")\n",
    "\n",
    "print(repr(f),\"\\n\")\n",
    "\n",
    "\n",
    "## what it sees when reading the file as one long string\n",
    "\n",
    "print(repr(f.read()),\"\\n\")\n",
    "\n",
    "\n",
    "## what python sees when reading the file line by line\n",
    "\n",
    "f.seek(0)\n",
    "print(repr(f.readline()))\n",
    "print(repr(f.readline()))\n",
    "print(repr(f.readline()),\"\\n\")\n",
    "\n",
    "f.close()"
   ]
  },
  {
   "cell_type": "code",
   "execution_count": null,
   "metadata": {},
   "outputs": [],
   "source": [
    "## read a file of letter grades\n",
    "\n",
    "f=open(\"coursegrades.txt\")\n",
    "\n",
    "for i in range(0,5):\n",
    "    line=f.readline()\n",
    "    print(repr(line))\n",
    "    line=line.strip()  ## what does this do?\n",
    "    print(repr(line))\n",
    "    print()\n",
    "\n",
    "f.close()"
   ]
  },
  {
   "cell_type": "code",
   "execution_count": null,
   "metadata": {},
   "outputs": [],
   "source": [
    "## exercise: organize course grades as a dictionary, \n",
    "## where the student number is the key and the grade is the value\n",
    "\n",
    "## preparing the items\n",
    "\n",
    "f=open(\"coursegrades.txt\")\n",
    "\n",
    "for line in f:\n",
    "    line=line.strip()\n",
    "    print(line)\n",
    "    key=line[0:5]\n",
    "    value=line[6:8]\n",
    "    print(\"id:\",key, \"  grade:\",value,\"\\n\")\n",
    "    \n",
    "f.close() "
   ]
  },
  {
   "cell_type": "code",
   "execution_count": null,
   "metadata": {},
   "outputs": [],
   "source": [
    "## building the dictionary\n",
    "\n",
    "f=open(\"coursegrades.txt\")\n",
    "\n",
    "letter_grades={}\n",
    "\n",
    "for line in f:\n",
    "    line=line.strip()\n",
    "    key=line[0:5]\n",
    "    value=line[6:8]\n",
    "    letter_grades[key]=value\n",
    "    \n",
    "f.close() \n",
    "\n",
    "print(letter_grades)"
   ]
  },
  {
   "cell_type": "code",
   "execution_count": null,
   "metadata": {},
   "outputs": [],
   "source": [
    "## exercise: create a new dictionary by replacing letters by numeric grades\n",
    "\n",
    "numeric_grades={}\n",
    "\n",
    "for k,v in letter_grades.items():\n",
    "    if v=='A+':\n",
    "        numeric_grades[k]=12\n",
    "    if v=='A':\n",
    "        numeric_grades[k]=11\n",
    "    if v=='A-':\n",
    "        numeric_grades[k]=10\n",
    "    if v=='B+':\n",
    "        numeric_grades[k]=9\n",
    "    if v=='B':\n",
    "        numeric_grades[k]=8\n",
    "    if v=='B-':\n",
    "        numeric_grades[k]=7\n",
    "    if v=='C+':\n",
    "        numeric_grades[k]=6\n",
    "    if v=='C':\n",
    "        numeric_grades[k]=5\n",
    "    if v=='C-':\n",
    "        numeric_grades[k]=4\n",
    "    if v=='D+':\n",
    "        numeric_grades[k]=3\n",
    "    if v=='D':\n",
    "        numeric_grades[k]=2\n",
    "    if v=='D-':\n",
    "        numeric_grades[k]=1\n",
    "    if v=='F':\n",
    "        numeric_grades[k]=0\n",
    "\n",
    "print(numeric_grades)           \n",
    "\n",
    "## how could we do this more efficiently??"
   ]
  },
  {
   "cell_type": "markdown",
   "metadata": {},
   "source": [
    "WORKING WITH A .CSV FILE"
   ]
  },
  {
   "cell_type": "code",
   "execution_count": null,
   "metadata": {},
   "outputs": [],
   "source": [
    "import pandas as pd  ## to work with data"
   ]
  },
  {
   "cell_type": "markdown",
   "metadata": {},
   "source": [
    "**Example:** Estimate the derivative $y'$ where $y=f(x)$ is given by a table of values."
   ]
  },
  {
   "cell_type": "code",
   "execution_count": null,
   "metadata": {},
   "outputs": [],
   "source": [
    "## Note: The file \"numerical_function.csv\" must be uploaded to the same directory as this notebook!\n",
    "\n",
    "values=pd.read_csv(\"numerical_function.csv\") \n",
    "\n",
    "x=[]\n",
    "y=[]\n",
    "\n",
    "for i in range(len(values)):\n",
    "    x.append(values.iloc[i,0]) ## takes value from row i, column 0 (x) and appends it to list 'x'\n",
    "    y.append(values.iloc[i,1]) ## takes value from row i, column 1 (y) and appends it to list 'y'\n",
    "    \n",
    "print(x)\n",
    "print(y)"
   ]
  },
  {
   "cell_type": "markdown",
   "metadata": {},
   "source": [
    "<font color=\"navy\"><b>Forward and Backward Difference Quotients</b></font>\n",
    "\n",
    "The derivative of a function $f(x)$ at a point $(x_1,y_1)$ can be estimated by an average rate of change between the point $(x_1,y_1)$ and some nearby point. \n",
    "\n",
    "When we use the nearby point $(x_2,y_2)$, where $x_2>x_1$, we are computing a **forward difference**: \n",
    "$\\displaystyle{f'(x_1) \\approx {f(x_2) - f(x_1) \\over x_2-x_1} }$\n",
    "\n",
    "When we use the nearby point $(x_0,y_0)$, where $x_0<x_1$, we are computing a **backward difference**:\n",
    "$\\displaystyle{f'(x_1) \\approx {f(x_0) - f(x_1) \\over x_0-x_1} }$"
   ]
  },
  {
   "cell_type": "code",
   "execution_count": null,
   "metadata": {},
   "outputs": [],
   "source": [
    "## estimating the derivative f'(x), when y=f(x) is given numerically (i.e. as a table of values)\n",
    "\n",
    "y_prime=[] \n",
    "\n",
    "for i in range(len(y)-1):\n",
    "    diff_quotient=(y[i+1]-y[i])/(x[i+1]-x[i])  # use forward differences (slope of secant line)\n",
    "    y_prime.append(diff_quotient) \n",
    "y_prime.append(diff_quotient) # once out of the loop, we add the last computed difference quotient to the list again\n",
    "\n",
    "print(\"y'=\", y_prime)"
   ]
  },
  {
   "cell_type": "code",
   "execution_count": null,
   "metadata": {},
   "outputs": [],
   "source": [
    "import matplotlib.pyplot as plt\n",
    "%matplotlib inline\n",
    "\n",
    "plt.plot(x,y,label=\"f(x)\")\n",
    "plt.plot(x,y_prime,label=\"f'(x)\")\n",
    "plt.grid()\n",
    "plt.title(\"The graphs of f(x) and f'(x)\")\n",
    "plt.legend()\n",
    "plt.show()"
   ]
  },
  {
   "cell_type": "markdown",
   "metadata": {},
   "source": [
    "<h3> Reading Files from the Internet or Online Sites </h3>\n"
   ]
  },
  {
   "cell_type": "markdown",
   "metadata": {},
   "source": [
    "ONE MILLION DIGITS OF $\\pi$"
   ]
  },
  {
   "cell_type": "code",
   "execution_count": null,
   "metadata": {},
   "outputs": [],
   "source": [
    "############################ no need to know this #####################################\n",
    "import requests\n",
    "target_url=\"https://ms.mcmaster.ca/lovric/1MP3/files/pi1million.txt\"  ## where file is\n",
    "response=requests.get(target_url)  ## using requests module to 'get' file\n",
    "pi=response.text  ## digits of pi as a string (\"1415...\")\n",
    "#######################################################################################\n",
    "\n",
    "print(pi[0:50])\n",
    "print(len(pi))\n",
    "print()\n",
    "\n",
    "## what does this code do?\n",
    "\n",
    "ctr=0\n",
    "for dig in pi:\n",
    "     if dig=='7':\n",
    "            ctr+=1\n",
    "print(ctr)\n",
    "\n",
    "## if the digits of pi are truly random, how many times would you expect 7 to\n",
    "## appear in one million digits??"
   ]
  },
  {
   "cell_type": "code",
   "execution_count": null,
   "metadata": {},
   "outputs": [],
   "source": [
    "## index: gives location of the beginning of the string you're looking for\n",
    "\n",
    "look_for='2653'\n",
    "print(look_for in pi)\n",
    "print()\n",
    "\n",
    "if look_for in pi:\n",
    "    print(pi.index(look_for)) "
   ]
  },
  {
   "cell_type": "markdown",
   "metadata": {},
   "source": [
    "THE JUNGLE BOOK"
   ]
  },
  {
   "cell_type": "code",
   "execution_count": null,
   "metadata": {},
   "outputs": [],
   "source": [
    "############################ no need to know this #############################\n",
    "import requests\n",
    "target_url=\"https://ms.mcmaster.ca/lovric/1MP3/files/TheJungleBook.txt\"\n",
    "response=requests.get(target_url)\n",
    "jungle_book=response.text\n",
    "################################################################################ \n",
    "\n",
    "print(jungle_book[0:700])  ## prints the beginning\n",
    "print()\n",
    "print(jungle_book[-245:])  ## prints the end"
   ]
  },
  {
   "cell_type": "code",
   "execution_count": null,
   "metadata": {},
   "outputs": [],
   "source": [
    "## count how many times a word appears in a text\n",
    "\n",
    "ctr=0\n",
    "for i in range(0,len(jungle_book)-3):  ## len(jungle_book)-len(word)+1  OR  len(jungle_book)\n",
    "    if jungle_book[i:i+4]=='wolf' or jungle_book[i:i+4]=='Wolf':\n",
    "        ctr+=1\n",
    "print(ctr)\n",
    "print()\n",
    "\n",
    "## exercise: write a function which returns the number of times a word appears in a given text \n",
    "## i.e. generalize the code in this cell and package as a function"
   ]
  }
 ],
 "metadata": {
  "kernelspec": {
   "display_name": "Python 3 (ipykernel)",
   "language": "python",
   "name": "python3"
  },
  "language_info": {
   "codemirror_mode": {
    "name": "ipython",
    "version": 3
   },
   "file_extension": ".py",
   "mimetype": "text/x-python",
   "name": "python",
   "nbconvert_exporter": "python",
   "pygments_lexer": "ipython3",
   "version": "3.9.13"
  }
 },
 "nbformat": 4,
 "nbformat_minor": 4
}
