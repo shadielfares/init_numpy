{
 "cells": [
  {
   "cell_type": "markdown",
   "id": "9c86ae41",
   "metadata": {},
   "source": [
    "<h3>Logical Arrays</h3>"
   ]
  },
  {
   "cell_type": "code",
   "id": "504240c8",
   "metadata": {
    "ExecuteTime": {
     "end_time": "2025-07-08T20:14:55.414203Z",
     "start_time": "2025-07-08T20:14:55.292191Z"
    }
   },
   "source": [
    "import numpy as np"
   ],
   "outputs": [],
   "execution_count": 1
  },
  {
   "cell_type": "code",
   "id": "5e1ea7ee",
   "metadata": {
    "ExecuteTime": {
     "end_time": "2025-07-08T20:20:18.725074Z",
     "start_time": "2025-07-08T20:20:18.719758Z"
    }
   },
   "source": [
    "## what is the output?\n",
    "\n",
    "a=np.array([True, False, 1, 0, 'a' in \"abc\", 3==4, 7<8, 3 in {1,2}, \n",
    "            {1}<={1,2}, not True, True or False, True and False], dtype=bool)  ## specify dtype=bool\n",
    "\"\"\"\n",
    "[True, False, True, False, True, False, True, False, True, False, True, False]]\n",
    "\"\"\"\n",
    "print(a)"
   ],
   "outputs": [
    {
     "name": "stdout",
     "output_type": "stream",
     "text": [
      "[ True False  True False  True False  True False  True False  True False]\n"
     ]
    }
   ],
   "execution_count": 2
  },
  {
   "cell_type": "code",
   "id": "0c590961",
   "metadata": {
    "ExecuteTime": {
     "end_time": "2025-07-08T20:24:19.090458Z",
     "start_time": "2025-07-08T20:24:19.086571Z"
    }
   },
   "source": [
    "## element-wise comparisons\n",
    "## i.e., simultaneously applies question to corresponding values in arrays, \n",
    "## without using indexing and loops (faster!)\n",
    "## organizes answers in a logical array the same size as a and b\n",
    "\n",
    "a=np.array([2, 4, 7])\n",
    "b=np.array([8, 4, 6])\n",
    "\n",
    "larger=(a>b)  ## how would you describe in words what this line of code does?\n",
    "\n",
    "\"\"\"Performs element wise greater than comparison\"\"\"\n",
    "equal=(a==b)  ## (you don't need the brackets, but it helps me visually)\n",
    "\n",
    "print(larger)  ## or simply, print(a>b)\n",
    "print(equal)   ## or print(a==b)"
   ],
   "outputs": [
    {
     "name": "stdout",
     "output_type": "stream",
     "text": [
      "[False False  True]\n",
      "[False  True False]\n"
     ]
    }
   ],
   "execution_count": 5
  },
  {
   "cell_type": "code",
   "id": "25e6a1d0",
   "metadata": {
    "ExecuteTime": {
     "end_time": "2025-07-08T20:25:29.514952Z",
     "start_time": "2025-07-08T20:25:29.509865Z"
    }
   },
   "source": [
    "## not/and/or applied element-wise; returns a logical array the same size as c and d \n",
    "\n",
    "c=np.array([True, True, False], dtype=bool)\n",
    "d=np.array([False, True, True], dtype=bool)\n",
    "\n",
    "print(np.logical_not(c),'\\n')  # what does this do?\n",
    "\"\"\"inverse of all values, [False, False, True]\"\"\"\n",
    "print(np.logical_and(c,d),'\\n')  # are the elements c[i] and d[i] True?\n",
    "\"\"\"element wise and: [False, True, False]\"\"\"\n",
    "print(np.logical_or(c,d),'\\n')  # is the element c[i] or d[i] True?\n",
    "\"\"\"element wise or: [True, True, True]\"\"\""
   ],
   "outputs": [
    {
     "name": "stdout",
     "output_type": "stream",
     "text": [
      "[False False  True] \n",
      "\n",
      "[False  True False] \n",
      "\n",
      "[ True  True  True] \n",
      "\n"
     ]
    },
    {
     "data": {
      "text/plain": [
       "'element wise or: [True, True, True]'"
      ]
     },
     "execution_count": 6,
     "metadata": {},
     "output_type": "execute_result"
    }
   ],
   "execution_count": 6
  },
  {
   "cell_type": "code",
   "id": "3694d02e",
   "metadata": {
    "ExecuteTime": {
     "end_time": "2025-07-08T20:28:44.811754Z",
     "start_time": "2025-07-08T20:28:44.806292Z"
    }
   },
   "source": [
    "## apply question to each element in array; return True or False\n",
    "## simultaneously tests all values in an array, without using a loop (faster!)\n",
    "\n",
    "a=np.array([2, 4, 7])\n",
    "print(a,'\\n')\n",
    "print(a>4,'\\n')\n",
    "print(a<3,'\\n')\n",
    "print(np.logical_or(a>4, a<3),'\\n')\n",
    "print(np.logical_and(a>4, a<3))"
   ],
   "outputs": [
    {
     "name": "stdout",
     "output_type": "stream",
     "text": [
      "[2 4 7] \n",
      "\n",
      "[False False  True] \n",
      "\n",
      "[ True False False] \n",
      "\n",
      "[ True False  True] \n",
      "\n",
      "[False False False]\n"
     ]
    }
   ],
   "execution_count": 7
  },
  {
   "cell_type": "code",
   "id": "cbac7dfe",
   "metadata": {
    "ExecuteTime": {
     "end_time": "2025-07-08T20:28:55.188903Z",
     "start_time": "2025-07-08T20:28:55.184200Z"
    }
   },
   "source": [
    "## apply question to each element in a higher dimensional array; return True or False\n",
    "## returns a logical array with the same dimensions as a\n",
    "\n",
    "a=np.array([[6, 4,12,-4], [5, 9,10,7.4], [45, -9,13,8.0]], dtype=float)\n",
    "print(a,'\\n')\n",
    "print(a>=6)"
   ],
   "outputs": [
    {
     "name": "stdout",
     "output_type": "stream",
     "text": [
      "[[ 6.   4.  12.  -4. ]\n",
      " [ 5.   9.  10.   7.4]\n",
      " [45.  -9.  13.   8. ]] \n",
      "\n",
      "[[ True False  True False]\n",
      " [False  True  True  True]\n",
      " [ True False  True  True]]\n"
     ]
    }
   ],
   "execution_count": 8
  },
  {
   "cell_type": "code",
   "id": "1e60a0eb",
   "metadata": {
    "ExecuteTime": {
     "end_time": "2025-07-08T20:29:29.507835Z",
     "start_time": "2025-07-08T20:29:29.502640Z"
    }
   },
   "source": [
    "## creating a new array from an old one, using entries that satisfy some criterion/criteria\n",
    "## (extracting entries from an array which satisfy some criterion/criteria)\n",
    "\n",
    "a=np.arange(12).reshape(3,4)\n",
    "print(a,'\\n')\n",
    "\n",
    "b=(a>4)  ## logical array with the same dimensions as a\n",
    "print(b,'\\n')\n",
    "\n",
    "print(a[b])  ## prints a 1-dimensional array consisting of values from a where corresponding b-value is True\n",
    "\n",
    "# can you compress this code?"
   ],
   "outputs": [
    {
     "name": "stdout",
     "output_type": "stream",
     "text": [
      "[[ 0  1  2  3]\n",
      " [ 4  5  6  7]\n",
      " [ 8  9 10 11]] \n",
      "\n",
      "[[False False False False]\n",
      " [False  True  True  True]\n",
      " [ True  True  True  True]] \n",
      "\n",
      "[ 5  6  7  8  9 10 11]\n"
     ]
    }
   ],
   "execution_count": 9
  },
  {
   "cell_type": "code",
   "id": "4c7d641c",
   "metadata": {
    "ExecuteTime": {
     "end_time": "2025-07-08T20:30:45.503999Z",
     "start_time": "2025-07-08T20:30:45.497750Z"
    }
   },
   "source": [
    "## creating an new array from an old one, using entries that satisfy some criterion/criteria\n",
    "## (extracting entries from an array which satisfy some criterion/criteria)\n",
    "\n",
    "a=np.array([[6, 4,12,-4], [5, 9,10,7.4], [45, -9,13,8.0]], dtype=float)\n",
    "print(a,'\\n')\n",
    "\n",
    "print(a[a>=6],'\\n') # what will the output be?\n",
    "print(a[a>=11],'\\n')  # note shape of array (1D)\n",
    "print(a[a<-10],'\\n')  \n",
    "print(a[np.logical_and(5<a,a<9)])"
   ],
   "outputs": [
    {
     "name": "stdout",
     "output_type": "stream",
     "text": [
      "[[ 6.   4.  12.  -4. ]\n",
      " [ 5.   9.  10.   7.4]\n",
      " [45.  -9.  13.   8. ]] \n",
      "\n",
      "[ 6.  12.   9.  10.   7.4 45.  13.   8. ] \n",
      "\n",
      "[12. 45. 13.] \n",
      "\n",
      "[] \n",
      "\n",
      "[6.  7.4 8. ]\n"
     ]
    }
   ],
   "execution_count": 10
  },
  {
   "cell_type": "code",
   "execution_count": null,
   "id": "ab2557b1",
   "metadata": {},
   "outputs": [],
   "source": [
    "## reassigning all values in an array which satisfy some criterion \n",
    "\n",
    "a=np.arange(12).reshape(3,4)\n",
    "print(a,'\\n')\n",
    "\n",
    "print(a[a>6],\"\\n\")  ## prints a 1D array containing values >6 from a\n",
    "\n",
    "a[a>6]=0  ## updates entries in original array a (here, we replace True entries with 0) \n",
    "print(a)  ## recall: arrays are mutable!"
   ]
  },
  {
   "cell_type": "code",
   "execution_count": null,
   "id": "3a227094",
   "metadata": {},
   "outputs": [],
   "source": [
    "## SUMMARY\n",
    "\n",
    "a=np.arange(12).reshape(4,3)  ## original 2D array\n",
    "print(\"a= \\n\", a, \"\\n\")\n",
    "\n",
    "print(a>=3, \"\\n\")  ## 2D logical array, same dimensions as original\n",
    "\n",
    "print(a[a>=3], \"\\n\")  ## extracting values from a which are >=3 and creating a 1D logical array\n",
    "\n",
    "a[a>=6]=0  ## updating values which are >=3 in the original 2D array\n",
    "print(a)"
   ]
  },
  {
   "cell_type": "markdown",
   "id": "c25cc2ae",
   "metadata": {},
   "source": [
    "<b>EXERCISES</b>"
   ]
  },
  {
   "cell_type": "code",
   "id": "1b0d4fba",
   "metadata": {
    "ExecuteTime": {
     "end_time": "2025-07-08T20:32:14.053283Z",
     "start_time": "2025-07-08T20:32:14.048433Z"
    }
   },
   "source": [
    "## exercise - what does this code do?\n",
    "\n",
    "a=np.arange(28).reshape(4,7) #from 0-27 it then creates a matrix of 4 rows, 7 cols\n",
    "print(a,'\\n')\n",
    "\n",
    "b=(a%3==0) # Creates a matrix of booleans, satisfying the requirements\n",
    "print(b,'\\n')\n",
    "\n",
    "a[b]=100  #Replaces all satisfying indicies with 100\n",
    "print(a)"
   ],
   "outputs": [
    {
     "name": "stdout",
     "output_type": "stream",
     "text": [
      "[[ 0  1  2  3  4  5  6]\n",
      " [ 7  8  9 10 11 12 13]\n",
      " [14 15 16 17 18 19 20]\n",
      " [21 22 23 24 25 26 27]] \n",
      "\n",
      "[[ True False False  True False False  True]\n",
      " [False False  True False False  True False]\n",
      " [False  True False False  True False False]\n",
      " [ True False False  True False False  True]] \n",
      "\n",
      "[[100   1   2 100   4   5 100]\n",
      " [  7   8 100  10  11 100  13]\n",
      " [ 14 100  16  17 100  19  20]\n",
      " [100  22  23 100  25  26 100]]\n"
     ]
    }
   ],
   "execution_count": 12
  },
  {
   "cell_type": "code",
   "id": "c2a417b3",
   "metadata": {
    "ExecuteTime": {
     "end_time": "2025-07-08T20:34:04.337883Z",
     "start_time": "2025-07-08T20:34:04.332577Z"
    }
   },
   "source": [
    "## any/all method applied to arrays\n",
    "\n",
    "a=np.array([2, 4, 7])\n",
    "b=np.array([8, 4, 6])\n",
    "\n",
    "print(a<=b)\n",
    "print(np.any(a<=b))  # are any True?\n",
    "print(np.all(a<=b))  # are all True?\n",
    "\n",
    "## exercise: write code to do what np.any(a<=6) and np.all(a<=6) do, without using np.any or np.all\n",
    "for n in a:\n",
    "    if n <= 6:\n",
    "        print(True)\n",
    "print(False)\n",
    "\n",
    "\n"
   ],
   "outputs": [
    {
     "name": "stdout",
     "output_type": "stream",
     "text": [
      "[ True  True False]\n",
      "True\n",
      "False\n",
      "True\n",
      "True\n",
      "False\n"
     ]
    }
   ],
   "execution_count": 13
  },
  {
   "cell_type": "code",
   "id": "735ec507",
   "metadata": {
    "ExecuteTime": {
     "end_time": "2025-07-08T20:37:05.953730Z",
     "start_time": "2025-07-08T20:37:05.948698Z"
    }
   },
   "source": [
    "## exercise: given a numpy array, find the sum of all negative terms\n",
    "\n",
    "a=np.arange(-4,6).reshape(2,5)\n",
    "print(a,'\\n')\n",
    "con = a<0\n",
    "\n",
    "print(a[con],'\\n')\n",
    "sum = np.sum(a[con])\n",
    "print(sum,'\\n')\n"
   ],
   "outputs": [
    {
     "name": "stdout",
     "output_type": "stream",
     "text": [
      "[[-4 -3 -2 -1  0]\n",
      " [ 1  2  3  4  5]] \n",
      "\n",
      "[-4 -3 -2 -1] \n",
      "\n",
      "-10 \n",
      "\n"
     ]
    }
   ],
   "execution_count": 21
  },
  {
   "cell_type": "markdown",
   "id": "a3c435c1",
   "metadata": {},
   "source": [
    "<u>APPLICATION: GRID METHOD FOR SOLVING f(x)=0 </u>"
   ]
  },
  {
   "cell_type": "code",
   "id": "5c871bc4",
   "metadata": {
    "ExecuteTime": {
     "end_time": "2025-07-08T20:37:19.965323Z",
     "start_time": "2025-07-08T20:37:18.748126Z"
    }
   },
   "source": [
    "# RECALL - grid method for solving f(x)=0 \n",
    "# scan a given interval [a,b] for possible solutions\n",
    "\n",
    "def f(x):\n",
    "    return x**3-3.397*x**2+3.42254*x-0.9528992  ##  =(x-0.46)*(x-1.177)*(x-1.76)\n",
    "\n",
    "a=0\n",
    "b=10\n",
    "n=5000000   \n",
    "dx=(b-a)/n\n",
    "tol=1e-7   \n",
    "\n",
    "solution_found=False\n",
    "for i in range (0,n+1):\n",
    "    if abs(f(a+i*dx))<tol:\n",
    "        print(\"possible solution\",a+i*dx, \"value of f:\",f(a+i*dx))\n",
    "        solution_found=True\n",
    "\n",
    "if not solution_found:\n",
    "    print(\"solution not found; increase n\")"
   ],
   "outputs": [
    {
     "name": "stdout",
     "output_type": "stream",
     "text": [
      "possible solution 0.45999999999999996 value of f: 2.220446049250313e-16\n",
      "possible solution 1.177 value of f: 9.992007221626409e-16\n",
      "possible solution 1.76 value of f: 1.887379141862766e-15\n"
     ]
    }
   ],
   "execution_count": 22
  },
  {
   "cell_type": "code",
   "id": "dcea0454",
   "metadata": {
    "ExecuteTime": {
     "end_time": "2025-07-08T20:39:57.030194Z",
     "start_time": "2025-07-08T20:39:56.957661Z"
    }
   },
   "source": [
    "# example: using logical arrays to solve equations\n",
    "# revisiting the grid method\n",
    "# for real, with a large number of grid points\n",
    "# need to experiment with the number of grid points and tolerance\n",
    "\n",
    "gridpoints=5000000\n",
    "tol=1e-7\n",
    "\n",
    "x=np.linspace(0,2,gridpoints)\n",
    "y=f(x)   ## y=(x-0.46)*(x-1.177)*(x-1.76)\n",
    "\n",
    "root=(abs(y)<tol)  ## root = corresponding logical array for y (same dimensions as y)\n",
    "\n",
    "print('\\n  y-value(s) where the root(s) is/are: \\n',y[root])  # extracts values from y where coorresponding value in 'root' is True\n",
    "print('\\n  x-value(s) where the root(s) is/are: \\n',x[root])  "
   ],
   "outputs": [
    {
     "name": "stdout",
     "output_type": "stream",
     "text": [
      "\n",
      "  y-value(s) where the root(s) is/are: \n",
      " [ 8.57532003e-08  6.88046283e-08 -9.83998011e-08 -3.63792018e-08]\n",
      "\n",
      "  x-value(s) where the root(s) is/are: \n",
      " [0.46000009 1.17699984 1.17700024 1.75999995]\n"
     ]
    }
   ],
   "execution_count": 23
  }
 ],
 "metadata": {
  "kernelspec": {
   "display_name": "Python 3 (ipykernel)",
   "language": "python",
   "name": "python3"
  },
  "language_info": {
   "codemirror_mode": {
    "name": "ipython",
    "version": 3
   },
   "file_extension": ".py",
   "mimetype": "text/x-python",
   "name": "python",
   "nbconvert_exporter": "python",
   "pygments_lexer": "ipython3",
   "version": "3.9.13"
  }
 },
 "nbformat": 4,
 "nbformat_minor": 5
}
